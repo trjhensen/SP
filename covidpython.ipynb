{
 "cells": [
  {
   "cell_type": "markdown",
   "metadata": {},
   "source": [
    "# Jupyter notebook covid data analysis Tim Hensen"
   ]
  },
  {
   "cell_type": "markdown",
   "metadata": {},
   "source": [
    "## Importing data"
   ]
  },
  {
   "cell_type": "code",
   "execution_count": 7,
   "metadata": {},
   "outputs": [],
   "source": [
    "#importing libraries\n",
    "import pandas as pd\n",
    "import numpy as np\n",
    "import matplotlib.pyplot as plt\n",
    "from tabulate import tabulate\n",
    "from sklearn import preprocessing\n",
    "import seaborn as sns; sns.set()"
   ]
  },
  {
   "cell_type": "code",
   "execution_count": 8,
   "metadata": {},
   "outputs": [],
   "source": [
    "# importing main dataset\n",
    "df = pd.read_csv(\"owid_main_agi.csv\")\n",
    "\n",
    "# Raw data inspection\n",
    "df.head()\n",
    "\n",
    "# We only need to use the total cases and deaths, so:\n",
    "df_total = df.loc[df['date'] == '2020-09-11']"
   ]
  },
  {
   "cell_type": "code",
   "execution_count": 9,
   "metadata": {},
   "outputs": [
    {
     "data": {
      "text/plain": [
       "(211, 17)"
      ]
     },
     "execution_count": 9,
     "metadata": {},
     "output_type": "execute_result"
    }
   ],
   "source": [
    "#Data inspection\n",
    "df_total.shape"
   ]
  },
  {
   "cell_type": "code",
   "execution_count": 10,
   "metadata": {},
   "outputs": [
    {
     "data": {
      "text/html": [
       "<div>\n",
       "<style scoped>\n",
       "    .dataframe tbody tr th:only-of-type {\n",
       "        vertical-align: middle;\n",
       "    }\n",
       "\n",
       "    .dataframe tbody tr th {\n",
       "        vertical-align: top;\n",
       "    }\n",
       "\n",
       "    .dataframe thead th {\n",
       "        text-align: right;\n",
       "    }\n",
       "</style>\n",
       "<table border=\"1\" class=\"dataframe\">\n",
       "  <thead>\n",
       "    <tr style=\"text-align: right;\">\n",
       "      <th></th>\n",
       "      <th>location</th>\n",
       "      <th>date</th>\n",
       "      <th>total_cases_per_million</th>\n",
       "      <th>total_deaths_per_million</th>\n",
       "      <th>population_density</th>\n",
       "      <th>median_age</th>\n",
       "      <th>aged_70_older</th>\n",
       "      <th>gdp_per_capita</th>\n",
       "      <th>extreme_poverty</th>\n",
       "      <th>cardiovasc_death_rate</th>\n",
       "      <th>diabetes_prevalence</th>\n",
       "      <th>female_smokers</th>\n",
       "      <th>male_smokers</th>\n",
       "      <th>handwashing_facilities</th>\n",
       "      <th>hospital_beds_per_thousand</th>\n",
       "      <th>life_expectancy</th>\n",
       "      <th>human_development_index</th>\n",
       "    </tr>\n",
       "  </thead>\n",
       "  <tbody>\n",
       "    <tr>\n",
       "      <th>255</th>\n",
       "      <td>Afghanistan</td>\n",
       "      <td>2020-09-11</td>\n",
       "      <td>990.846</td>\n",
       "      <td>36.477</td>\n",
       "      <td>54.422</td>\n",
       "      <td>18.6</td>\n",
       "      <td>1.337</td>\n",
       "      <td>1803.987</td>\n",
       "      <td>NaN</td>\n",
       "      <td>597.029</td>\n",
       "      <td>9.59</td>\n",
       "      <td>NaN</td>\n",
       "      <td>NaN</td>\n",
       "      <td>37.746</td>\n",
       "      <td>0.50</td>\n",
       "      <td>64.83</td>\n",
       "      <td>0.498</td>\n",
       "    </tr>\n",
       "    <tr>\n",
       "      <th>443</th>\n",
       "      <td>Albania</td>\n",
       "      <td>2020-09-11</td>\n",
       "      <td>3773.716</td>\n",
       "      <td>112.586</td>\n",
       "      <td>104.871</td>\n",
       "      <td>38.0</td>\n",
       "      <td>8.643</td>\n",
       "      <td>11803.431</td>\n",
       "      <td>1.1</td>\n",
       "      <td>304.195</td>\n",
       "      <td>10.08</td>\n",
       "      <td>7.1</td>\n",
       "      <td>51.2</td>\n",
       "      <td>NaN</td>\n",
       "      <td>2.89</td>\n",
       "      <td>78.57</td>\n",
       "      <td>0.785</td>\n",
       "    </tr>\n",
       "    <tr>\n",
       "      <th>700</th>\n",
       "      <td>Algeria</td>\n",
       "      <td>2020-09-11</td>\n",
       "      <td>1082.939</td>\n",
       "      <td>36.282</td>\n",
       "      <td>17.348</td>\n",
       "      <td>29.1</td>\n",
       "      <td>3.857</td>\n",
       "      <td>13913.839</td>\n",
       "      <td>0.5</td>\n",
       "      <td>278.364</td>\n",
       "      <td>6.73</td>\n",
       "      <td>0.7</td>\n",
       "      <td>30.4</td>\n",
       "      <td>83.741</td>\n",
       "      <td>1.90</td>\n",
       "      <td>76.88</td>\n",
       "      <td>0.754</td>\n",
       "    </tr>\n",
       "    <tr>\n",
       "      <th>889</th>\n",
       "      <td>Andorra</td>\n",
       "      <td>2020-09-11</td>\n",
       "      <td>16838.154</td>\n",
       "      <td>685.951</td>\n",
       "      <td>163.755</td>\n",
       "      <td>NaN</td>\n",
       "      <td>NaN</td>\n",
       "      <td>NaN</td>\n",
       "      <td>NaN</td>\n",
       "      <td>109.135</td>\n",
       "      <td>7.97</td>\n",
       "      <td>29.0</td>\n",
       "      <td>37.8</td>\n",
       "      <td>NaN</td>\n",
       "      <td>NaN</td>\n",
       "      <td>83.73</td>\n",
       "      <td>0.858</td>\n",
       "    </tr>\n",
       "    <tr>\n",
       "      <th>1064</th>\n",
       "      <td>Angola</td>\n",
       "      <td>2020-09-11</td>\n",
       "      <td>94.078</td>\n",
       "      <td>3.834</td>\n",
       "      <td>23.890</td>\n",
       "      <td>16.8</td>\n",
       "      <td>1.362</td>\n",
       "      <td>5819.495</td>\n",
       "      <td>NaN</td>\n",
       "      <td>276.045</td>\n",
       "      <td>3.94</td>\n",
       "      <td>NaN</td>\n",
       "      <td>NaN</td>\n",
       "      <td>26.664</td>\n",
       "      <td>NaN</td>\n",
       "      <td>61.15</td>\n",
       "      <td>0.581</td>\n",
       "    </tr>\n",
       "  </tbody>\n",
       "</table>\n",
       "</div>"
      ],
      "text/plain": [
       "         location        date  total_cases_per_million  \\\n",
       "255   Afghanistan  2020-09-11                  990.846   \n",
       "443       Albania  2020-09-11                 3773.716   \n",
       "700       Algeria  2020-09-11                 1082.939   \n",
       "889       Andorra  2020-09-11                16838.154   \n",
       "1064       Angola  2020-09-11                   94.078   \n",
       "\n",
       "      total_deaths_per_million  population_density  median_age  aged_70_older  \\\n",
       "255                     36.477              54.422        18.6          1.337   \n",
       "443                    112.586             104.871        38.0          8.643   \n",
       "700                     36.282              17.348        29.1          3.857   \n",
       "889                    685.951             163.755         NaN            NaN   \n",
       "1064                     3.834              23.890        16.8          1.362   \n",
       "\n",
       "      gdp_per_capita  extreme_poverty  cardiovasc_death_rate  \\\n",
       "255         1803.987              NaN                597.029   \n",
       "443        11803.431              1.1                304.195   \n",
       "700        13913.839              0.5                278.364   \n",
       "889              NaN              NaN                109.135   \n",
       "1064        5819.495              NaN                276.045   \n",
       "\n",
       "      diabetes_prevalence  female_smokers  male_smokers  \\\n",
       "255                  9.59             NaN           NaN   \n",
       "443                 10.08             7.1          51.2   \n",
       "700                  6.73             0.7          30.4   \n",
       "889                  7.97            29.0          37.8   \n",
       "1064                 3.94             NaN           NaN   \n",
       "\n",
       "      handwashing_facilities  hospital_beds_per_thousand  life_expectancy  \\\n",
       "255                   37.746                        0.50            64.83   \n",
       "443                      NaN                        2.89            78.57   \n",
       "700                   83.741                        1.90            76.88   \n",
       "889                      NaN                         NaN            83.73   \n",
       "1064                  26.664                         NaN            61.15   \n",
       "\n",
       "      human_development_index  \n",
       "255                     0.498  \n",
       "443                     0.785  \n",
       "700                     0.754  \n",
       "889                     0.858  \n",
       "1064                    0.581  "
      ]
     },
     "execution_count": 10,
     "metadata": {},
     "output_type": "execute_result"
    }
   ],
   "source": [
    "df_total.head()"
   ]
  },
  {
   "cell_type": "code",
   "execution_count": 11,
   "metadata": {},
   "outputs": [],
   "source": [
    "# Import extra datasets\n",
    "dfa = pd.read_csv('asthma_agi.csv')\n",
    "dfp = pd.read_csv('air_pollution_agi.csv')\n",
    "dfs = pd.read_csv('smoking.csv')\n",
    "dfo = pd.read_csv('obesity.csv')\n",
    "\n",
    "# Select only latest year of measurement\n",
    "df_at = dfa.loc[dfa['Year'] == 2017]\n",
    "df_pt = dfp.loc[dfp['Year'] == 2016]\n",
    "df_st = dfs.loc[dfs['Year'] == 2012]\n",
    "df_ot = dfo.loc[dfo['Year'] == 2016]"
   ]
  },
  {
   "cell_type": "code",
   "execution_count": 12,
   "metadata": {},
   "outputs": [
    {
     "name": "stdout",
     "output_type": "stream",
     "text": [
      "<class 'pandas.core.frame.DataFrame'>\n",
      "Int64Index: 211 entries, 0 to 210\n",
      "Data columns (total 21 columns):\n",
      " #   Column                                                             Non-Null Count  Dtype  \n",
      "---  ------                                                             --------------  -----  \n",
      " 0   location                                                           211 non-null    object \n",
      " 1   date                                                               211 non-null    object \n",
      " 2   total_cases_per_million                                            209 non-null    float64\n",
      " 3   total_deaths_per_million                                           210 non-null    float64\n",
      " 4   population_density                                                 199 non-null    float64\n",
      " 5   median_age                                                         186 non-null    float64\n",
      " 6   aged_70_older                                                      185 non-null    float64\n",
      " 7   gdp_per_capita                                                     183 non-null    float64\n",
      " 8   extreme_poverty                                                    122 non-null    float64\n",
      " 9   cardiovasc_death_rate                                              186 non-null    float64\n",
      " 10  diabetes_prevalence                                                193 non-null    float64\n",
      " 11  female_smokers                                                     141 non-null    float64\n",
      " 12  male_smokers                                                       139 non-null    float64\n",
      " 13  handwashing_facilities                                             92 non-null     float64\n",
      " 14  hospital_beds_per_thousand                                         165 non-null    float64\n",
      " 15  life_expectancy                                                    207 non-null    float64\n",
      " 16  human_development_index                                            179 non-null    float64\n",
      " 17  Prevalence - Asthma - Sex: Both - Age: Age-standardized (Percent)  186 non-null    float64\n",
      " 18  PM2.5 air pollution                                                184 non-null    float64\n",
      " 19  Daily smoking prevalence                                           179 non-null    float64\n",
      " 20  Prevalence of obesity (both sexes) - WHO (2019)                    176 non-null    float64\n",
      "dtypes: float64(19), object(2)\n",
      "memory usage: 36.3+ KB\n",
      "None\n"
     ]
    }
   ],
   "source": [
    "# Merge new data with main dataset using left join\n",
    "df_ta = df_total.merge(df_at, on='location', how='left')\n",
    "df_tp = df_ta.merge(df_pt, on='location', how='left')\n",
    "df_ts = df_tp.merge(df_st, on='location', how='left')\n",
    "df_to = df_ts.merge(df_ot, on='location', how='left')\n",
    "\n",
    "df_to = df_to.drop(['Code_x', \n",
    "                    'Code_y', \n",
    "                    'Year_x', \n",
    "                    'Year_y',\n",
    "                    ' mean annual exposure (micrograms per cubic meter)'], axis=1)\n",
    "print(df_to.info())"
   ]
  },
  {
   "cell_type": "markdown",
   "metadata": {},
   "source": [
    "## Preprocessing"
   ]
  },
  {
   "cell_type": "markdown",
   "metadata": {},
   "source": [
    "### Case fatality rate"
   ]
  },
  {
   "cell_type": "code",
   "execution_count": 13,
   "metadata": {},
   "outputs": [],
   "source": [
    "#add mortality rate (cfr)\n",
    "df_new = df_to\n",
    "case = df_new['total_cases_per_million']\n",
    "death = df_new['total_deaths_per_million']\n",
    "df_new['CFR'] = [death / case for (case, death) in zip(case, death)]"
   ]
  },
  {
   "cell_type": "code",
   "execution_count": 14,
   "metadata": {},
   "outputs": [
    {
     "name": "stdout",
     "output_type": "stream",
     "text": [
      "                  location       CFR\n",
      "206                  Yemen  0.289565\n",
      "96                   Italy  0.125669\n",
      "197         United Kingdom  0.116179\n",
      "18                 Belgium  0.108472\n",
      "124                 Mexico  0.106764\n",
      "..                     ...       ...\n",
      "158  Saint Kitts and Nevis  0.000000\n",
      "159            Saint Lucia  0.000000\n",
      "188                  Timor  0.000000\n",
      "170               Slovakia       NaN\n",
      "210          International       NaN\n",
      "\n",
      "[211 rows x 2 columns]\n"
     ]
    },
    {
     "data": {
      "text/plain": [
       "<matplotlib.axes._subplots.AxesSubplot at 0x278082dc640>"
      ]
     },
     "execution_count": 14,
     "metadata": {},
     "output_type": "execute_result"
    },
    {
     "data": {
      "image/png": "[encoded data removed]",
      "text/plain": [
       "<Figure size 432x288 with 1 Axes>"
      ]
     },
     "metadata": {},
     "output_type": "display_data"
    }
   ],
   "source": [
    "# Explore mortality rates per country\n",
    "df_new_cfr = df_new.iloc[:,[0,21]]\n",
    "df_new_cfr = df_new_cfr.sort_values('CFR', axis=0, ascending=False)\n",
    "print(df_new_cfr)\n",
    "df_new.boxplot(column = 'CFR')"
   ]
  },
  {
   "cell_type": "markdown",
   "metadata": {},
   "source": [
    "### Data cleaning"
   ]
  },
  {
   "cell_type": "code",
   "execution_count": 15,
   "metadata": {},
   "outputs": [],
   "source": [
    "# Remove non number columns for visualization and further data exploration\n",
    "df_values = df_new.iloc[:, 2:]"
   ]
  },
  {
   "cell_type": "code",
   "execution_count": 16,
   "metadata": {},
   "outputs": [
    {
     "name": "stdout",
     "output_type": "stream",
     "text": [
      "handwashing_facilities                                               56.666667\n",
      "extreme_poverty                                                      42.380952\n",
      "male_smokers                                                         34.285714\n",
      "female_smokers                                                       33.333333\n",
      "hospital_beds_per_thousand                                           21.904762\n",
      "Prevalence of obesity (both sexes) - WHO (2019)                      16.666667\n",
      "human_development_index                                              15.238095\n",
      "Daily smoking prevalence                                             15.238095\n",
      "gdp_per_capita                                                       13.333333\n",
      "PM2.5 air pollution                                                  12.857143\n",
      "aged_70_older                                                        12.380952\n",
      "Prevalence - Asthma - Sex: Both - Age: Age-standardized (Percent)    11.904762\n",
      "cardiovasc_death_rate                                                11.904762\n",
      "median_age                                                           11.904762\n",
      "diabetes_prevalence                                                   8.571429\n",
      "population_density                                                    5.714286\n",
      "life_expectancy                                                       1.904762\n",
      "CFR                                                                   0.952381\n",
      "total_cases_per_million                                               0.952381\n",
      "total_deaths_per_million                                              0.476190\n",
      "dtype: float64\n"
     ]
    }
   ],
   "source": [
    "# Are there missing values?\n",
    "missing = df_values.isnull().sum(axis = 0)\n",
    "perc_miss = (missing/210) *100\n",
    "print(perc_miss.sort_values(ascending = False))"
   ]
  },
  {
   "cell_type": "markdown",
   "metadata": {},
   "source": [
    "The variables: handwashing_facilities, extreme_poverty, male_smokers and female_smokers have a missing value rate of over 30%, meaning that no meaningfull data analysis can be done with these variables. "
   ]
  },
  {
   "cell_type": "code",
   "execution_count": 17,
   "metadata": {},
   "outputs": [
    {
     "name": "stdout",
     "output_type": "stream",
     "text": [
      "hospital_beds_per_thousand                                           21.800948\n",
      "Prevalence of obesity (both sexes) - WHO (2019)                      16.587678\n",
      "Daily smoking prevalence                                             15.165877\n",
      "human_development_index                                              15.165877\n",
      "gdp_per_capita                                                       13.270142\n",
      "PM2.5 air pollution                                                  12.796209\n",
      "aged_70_older                                                        12.322275\n",
      "Prevalence - Asthma - Sex: Both - Age: Age-standardized (Percent)    11.848341\n",
      "cardiovasc_death_rate                                                11.848341\n",
      "median_age                                                           11.848341\n",
      "diabetes_prevalence                                                   8.530806\n",
      "population_density                                                    5.687204\n",
      "life_expectancy                                                       1.895735\n",
      "CFR                                                                   0.947867\n",
      "total_cases_per_million                                               0.947867\n",
      "total_deaths_per_million                                              0.473934\n",
      "dtype: float64\n"
     ]
    }
   ],
   "source": [
    "# Remove variables with over 30 percent missing values\n",
    "df_values1 = df_values.drop(df_values[['extreme_poverty', \n",
    "                                       'handwashing_facilities', \n",
    "                                       'male_smokers', \n",
    "                                       'female_smokers']], axis=1)\n",
    "missing1 = df_values1.isnull().sum(axis = 0)\n",
    "perc_miss1 = (missing1/211) *100\n",
    "print(perc_miss1.sort_values(ascending = False))"
   ]
  },
  {
   "cell_type": "markdown",
   "metadata": {},
   "source": [
    "If a country misses data, algorithmic imputing techniques like knn don't portray reality because their is no connection between the alphabetic order of the countries and the variable values. So, we can delete these countries or impute the missing values with zero. "
   ]
  },
  {
   "cell_type": "code",
   "execution_count": 18,
   "metadata": {},
   "outputs": [
    {
     "name": "stdout",
     "output_type": "stream",
     "text": [
      "<class 'pandas.core.frame.DataFrame'>\n",
      "Int64Index: 153 entries, 0 to 208\n",
      "Data columns (total 16 columns):\n",
      " #   Column                                                             Non-Null Count  Dtype  \n",
      "---  ------                                                             --------------  -----  \n",
      " 0   total_cases_per_million                                            153 non-null    float64\n",
      " 1   total_deaths_per_million                                           153 non-null    float64\n",
      " 2   population_density                                                 153 non-null    float64\n",
      " 3   median_age                                                         153 non-null    float64\n",
      " 4   aged_70_older                                                      153 non-null    float64\n",
      " 5   gdp_per_capita                                                     153 non-null    float64\n",
      " 6   cardiovasc_death_rate                                              153 non-null    float64\n",
      " 7   diabetes_prevalence                                                153 non-null    float64\n",
      " 8   hospital_beds_per_thousand                                         153 non-null    float64\n",
      " 9   life_expectancy                                                    153 non-null    float64\n",
      " 10  human_development_index                                            153 non-null    float64\n",
      " 11  Prevalence - Asthma - Sex: Both - Age: Age-standardized (Percent)  153 non-null    float64\n",
      " 12  PM2.5 air pollution                                                153 non-null    float64\n",
      " 13  Daily smoking prevalence                                           153 non-null    float64\n",
      " 14  Prevalence of obesity (both sexes) - WHO (2019)                    153 non-null    float64\n",
      " 15  CFR                                                                153 non-null    float64\n",
      "dtypes: float64(16)\n",
      "memory usage: 20.3 KB\n"
     ]
    }
   ],
   "source": [
    "# Removing rows with  any missing values\n",
    "df_values2 = df_values1.dropna()\n",
    "df_values2.info()"
   ]
  },
  {
   "cell_type": "markdown",
   "metadata": {},
   "source": [
    "### Checking data for strange values"
   ]
  },
  {
   "cell_type": "code",
   "execution_count": 19,
   "metadata": {},
   "outputs": [
    {
     "data": {
      "text/plain": [
       "array([0, 0, 0, 0, 0, 0, 0, 0, 0, 0, 0, 0, 0, 0])"
      ]
     },
     "execution_count": 19,
     "metadata": {},
     "output_type": "execute_result"
    }
   ],
   "source": [
    "# Are there any negative values?\n",
    "# Only select columns with numbers\n",
    "df_values2 = df_values2.iloc[:, 2:17]\n",
    "# Find for each column the number of negative values\n",
    "df_values2.to_numpy()\n",
    "np.sum(np.array(df_values2) < 0, axis=0)  "
   ]
  },
  {
   "cell_type": "code",
   "execution_count": 20,
   "metadata": {},
   "outputs": [
    {
     "name": "stdout",
     "output_type": "stream",
     "text": [
      " column                                                            |       min |           max\n",
      "-------------------------------------------------------------------+-----------+---------------\n",
      " population_density                                                |   1.98    |   7915.73\n",
      " median_age                                                        |  15.1     |     48.2\n",
      " aged_70_older                                                     |   0.526   |     18.493\n",
      " gdp_per_capita                                                    | 661.24    | 116936\n",
      " cardiovasc_death_rate                                             |  79.37    |    724.417\n",
      " diabetes_prevalence                                               |   0.99    |     22.02\n",
      " hospital_beds_per_thousand                                        |   0.1     |     13.05\n",
      " life_expectancy                                                   |  53.28    |     84.63\n",
      " human_development_index                                           |   0.354   |      0.953\n",
      " Prevalence - Asthma - Sex: Both - Age: Age-standardized (Percent) |   2.23679 |     10.7058\n",
      " PM2.5 air pollution                                               |   5.19528 |    203.744\n",
      " Daily smoking prevalence                                          |   3.3     |     36.9\n",
      " Prevalence of obesity (both sexes) - WHO (2019)                   |   2.1     |     37.9\n",
      " CFR                                                               |   0       |      0.289565\n"
     ]
    }
   ],
   "source": [
    "# Are there any strange values for each variable?\n",
    "# display minimum higher than zero\n",
    "a = np.array(df_values2.min(axis=0))\n",
    "b = np.array(df_values2.max(axis=0))\n",
    "c = df_values2.columns\n",
    "table = zip(c,a,b)\n",
    "print(tabulate(table, headers= ['column', 'min', 'max'], tablefmt=\"presto\"))"
   ]
  },
  {
   "cell_type": "markdown",
   "metadata": {},
   "source": [
    "## Outlier detection and data visualization"
   ]
  },
  {
   "cell_type": "code",
   "execution_count": 21,
   "metadata": {},
   "outputs": [
    {
     "name": "stdout",
     "output_type": "stream",
     "text": [
      "Index(['population_density', 'median_age', 'aged_70_older', 'gdp_per_capita',\n",
      "       'cardiovasc_death_rate', 'diabetes_prevalence',\n",
      "       'hospital_beds_per_thousand', 'life_expectancy',\n",
      "       'human_development_index',\n",
      "       'Prevalence - Asthma - Sex: Both - Age: Age-standardized (Percent)',\n",
      "       'PM2.5 air pollution', 'Daily smoking prevalence ',\n",
      "       'Prevalence of obesity (both sexes) - WHO (2019)', 'CFR'],\n",
      "      dtype='object')\n"
     ]
    }
   ],
   "source": [
    "cols = df_values2.columns\n",
    "\n",
    "\n",
    "np.array(cols)\n",
    "\n",
    "print(cols)"
   ]
  },
  {
   "cell_type": "code",
   "execution_count": 22,
   "metadata": {},
   "outputs": [
    {
     "data": {
      "image/png": "[encoded data removed]",
      "text/plain": [
       "<Figure size 432x288 with 1 Axes>"
      ]
     },
     "metadata": {},
     "output_type": "display_data"
    }
   ],
   "source": [
    "from sklearn.preprocessing import StandardScaler\n",
    "df_scaled = StandardScaler().fit_transform(df_values2)\n",
    "feat_cols = [str(i) for i in range(df_scaled.shape[1])]\n",
    "df_norm = pd.DataFrame(df_scaled,columns=feat_cols)# df_scaled = pd.DataFrame(data=df_scaled)\n",
    "df_norm = df_norm.T\n",
    "plt.boxplot(df_norm, notch='True', labels=cols)\n",
    "plt.legend(labels=cols ,loc=6, bbox_to_anchor=(1.01, 0.5))\n",
    "plt.show()"
   ]
  },
  {
   "cell_type": "markdown",
   "metadata": {},
   "source": [
    "### PCA"
   ]
  },
  {
   "cell_type": "code",
   "execution_count": 23,
   "metadata": {},
   "outputs": [
    {
     "name": "stdout",
     "output_type": "stream",
     "text": [
      "0        v\n",
      "1        v\n",
      "2        v\n",
      "3        v\n",
      "4        v\n",
      "      ... \n",
      "206      u\n",
      "207      h\n",
      "208      v\n",
      "209      v\n",
      "210    NaN\n",
      "Name: CFR, Length: 211, dtype: object\n"
     ]
    }
   ],
   "source": [
    "# Label countries with high, medium and low mortality rate\n",
    "ultra = df_new_cfr.iloc[0:35,1]\n",
    "very_high = df_new_cfr.iloc[35:70,1]\n",
    "high = df_new_cfr.iloc[70:105,1]\n",
    "medium = df_new_cfr.iloc[105:140,1]\n",
    "medium_low = df_new_cfr.iloc[140:175,1]\n",
    "low = df_new_cfr.iloc[175:210,1]\n",
    "# df_new['label'] = df_new['CFR']\n",
    "df_new['CFR'].replace(ultra, 'u',inplace=True)\n",
    "df_new['CFR'].replace(very_high, 'v',inplace=True)\n",
    "df_new['CFR'].replace(high, 'h',inplace=True)\n",
    "df_new['CFR'].replace(medium, 'm',inplace=True)\n",
    "df_new['CFR'].replace(medium_low, 'm_l',inplace=True)\n",
    "df_new['CFR'].replace(low, 'l',inplace=True)\n",
    "print(df_new['CFR'])"
   ]
  },
  {
   "cell_type": "code",
   "execution_count": 24,
   "metadata": {},
   "outputs": [
    {
     "data": {
      "text/html": [
       "<div>\n",
       "<style scoped>\n",
       "    .dataframe tbody tr th:only-of-type {\n",
       "        vertical-align: middle;\n",
       "    }\n",
       "\n",
       "    .dataframe tbody tr th {\n",
       "        vertical-align: top;\n",
       "    }\n",
       "\n",
       "    .dataframe thead th {\n",
       "        text-align: right;\n",
       "    }\n",
       "</style>\n",
       "<table border=\"1\" class=\"dataframe\">\n",
       "  <thead>\n",
       "    <tr style=\"text-align: right;\">\n",
       "      <th></th>\n",
       "      <th>feature0</th>\n",
       "      <th>feature1</th>\n",
       "      <th>feature2</th>\n",
       "      <th>feature3</th>\n",
       "      <th>feature4</th>\n",
       "      <th>feature5</th>\n",
       "      <th>feature6</th>\n",
       "      <th>feature7</th>\n",
       "      <th>feature8</th>\n",
       "      <th>feature9</th>\n",
       "      <th>feature10</th>\n",
       "      <th>feature11</th>\n",
       "      <th>feature12</th>\n",
       "      <th>feature13</th>\n",
       "    </tr>\n",
       "  </thead>\n",
       "  <tbody>\n",
       "    <tr>\n",
       "      <th>0</th>\n",
       "      <td>-0.226745</td>\n",
       "      <td>-1.454936</td>\n",
       "      <td>-1.054626</td>\n",
       "      <td>-0.916802</td>\n",
       "      <td>2.914831</td>\n",
       "      <td>0.477158</td>\n",
       "      <td>-1.036854</td>\n",
       "      <td>-1.307591</td>\n",
       "      <td>-1.552462</td>\n",
       "      <td>0.700820</td>\n",
       "      <td>0.807696</td>\n",
       "      <td>-0.667112</td>\n",
       "      <td>-1.492640</td>\n",
       "      <td>0.287246</td>\n",
       "    </tr>\n",
       "    <tr>\n",
       "      <th>1</th>\n",
       "      <td>-0.151484</td>\n",
       "      <td>0.759700</td>\n",
       "      <td>0.643576</td>\n",
       "      <td>-0.416896</td>\n",
       "      <td>0.437340</td>\n",
       "      <td>0.607768</td>\n",
       "      <td>-0.016689</td>\n",
       "      <td>0.726917</td>\n",
       "      <td>0.385622</td>\n",
       "      <td>-1.307489</td>\n",
       "      <td>-0.616472</td>\n",
       "      <td>0.448812</td>\n",
       "      <td>0.323410</td>\n",
       "      <td>0.064663</td>\n",
       "    </tr>\n",
       "    <tr>\n",
       "      <th>2</th>\n",
       "      <td>-0.282053</td>\n",
       "      <td>-0.256293</td>\n",
       "      <td>-0.468879</td>\n",
       "      <td>-0.311390</td>\n",
       "      <td>0.218800</td>\n",
       "      <td>-0.285173</td>\n",
       "      <td>-0.439268</td>\n",
       "      <td>0.476675</td>\n",
       "      <td>0.176282</td>\n",
       "      <td>0.647874</td>\n",
       "      <td>0.050912</td>\n",
       "      <td>-0.757943</td>\n",
       "      <td>0.962391</td>\n",
       "      <td>0.181667</td>\n",
       "    </tr>\n",
       "    <tr>\n",
       "      <th>3</th>\n",
       "      <td>0.037939</td>\n",
       "      <td>0.086177</td>\n",
       "      <td>-0.288971</td>\n",
       "      <td>0.067415</td>\n",
       "      <td>-0.516011</td>\n",
       "      <td>1.431405</td>\n",
       "      <td>0.371742</td>\n",
       "      <td>0.497405</td>\n",
       "      <td>0.351857</td>\n",
       "      <td>1.497611</td>\n",
       "      <td>-0.585404</td>\n",
       "      <td>-1.770060</td>\n",
       "      <td>0.009525</td>\n",
       "      <td>0.120309</td>\n",
       "    </tr>\n",
       "    <tr>\n",
       "      <th>4</th>\n",
       "      <td>-0.283800</td>\n",
       "      <td>0.063346</td>\n",
       "      <td>0.364184</td>\n",
       "      <td>-0.060419</td>\n",
       "      <td>-0.520064</td>\n",
       "      <td>-0.613029</td>\n",
       "      <td>0.883959</td>\n",
       "      <td>0.445580</td>\n",
       "      <td>0.655738</td>\n",
       "      <td>-0.136480</td>\n",
       "      <td>-0.630821</td>\n",
       "      <td>0.293102</td>\n",
       "      <td>1.063282</td>\n",
       "      <td>-0.219856</td>\n",
       "    </tr>\n",
       "  </tbody>\n",
       "</table>\n",
       "</div>"
      ],
      "text/plain": [
       "   feature0  feature1  feature2  feature3  feature4  feature5  feature6  \\\n",
       "0 -0.226745 -1.454936 -1.054626 -0.916802  2.914831  0.477158 -1.036854   \n",
       "1 -0.151484  0.759700  0.643576 -0.416896  0.437340  0.607768 -0.016689   \n",
       "2 -0.282053 -0.256293 -0.468879 -0.311390  0.218800 -0.285173 -0.439268   \n",
       "3  0.037939  0.086177 -0.288971  0.067415 -0.516011  1.431405  0.371742   \n",
       "4 -0.283800  0.063346  0.364184 -0.060419 -0.520064 -0.613029  0.883959   \n",
       "\n",
       "   feature7  feature8  feature9  feature10  feature11  feature12  feature13  \n",
       "0 -1.307591 -1.552462  0.700820   0.807696  -0.667112  -1.492640   0.287246  \n",
       "1  0.726917  0.385622 -1.307489  -0.616472   0.448812   0.323410   0.064663  \n",
       "2  0.476675  0.176282  0.647874   0.050912  -0.757943   0.962391   0.181667  \n",
       "3  0.497405  0.351857  1.497611  -0.585404  -1.770060   0.009525   0.120309  \n",
       "4  0.445580  0.655738 -0.136480  -0.630821   0.293102   1.063282  -0.219856  "
      ]
     },
     "execution_count": 24,
     "metadata": {},
     "output_type": "execute_result"
    }
   ],
   "source": [
    "# visualization\n",
    "df_scaled = StandardScaler().fit_transform(df_values2)\n",
    "feat_cols = ['feature'+str(i) for i in range(df_scaled.shape[1])]\n",
    "df_norm = pd.DataFrame(df_scaled,columns=feat_cols)# df_scaled = pd.DataFrame(data=df_scaled)\n",
    "df_norm.head()\n",
    "# df_scaled.boxplot()"
   ]
  },
  {
   "cell_type": "code",
   "execution_count": 25,
   "metadata": {
    "scrolled": false
   },
   "outputs": [],
   "source": [
    "# from sklearn.preprocessing import StandardScaler\n",
    "# features = df_new.columns.tolist()\n",
    "# target = df_new.loc[:,['location']].values\n",
    "# df_scaled = StandardScaler().fit_transform(df_values2)\n",
    "\n",
    "# pc_Df = pd.DataFrame(data = df_scaled\n",
    "#              , columns = ['principal component 1', 'principal component 2'])"
   ]
  },
  {
   "cell_type": "code",
   "execution_count": 26,
   "metadata": {},
   "outputs": [
    {
     "name": "stdout",
     "output_type": "stream",
     "text": [
      "Explained variation per principal component: [0.99893765 0.00103157]\n"
     ]
    }
   ],
   "source": [
    "from sklearn.decomposition import PCA\n",
    "pca_breast = PCA(n_components=2)\n",
    "pc_df = pca_breast.fit_transform(df_values2)\n",
    "\n",
    "pc_DF = pd.DataFrame(data = pc_df\n",
    "             , columns = ['principal component 1', 'principal component 2'])\n",
    "print('Explained variation per principal component: {}'.format(pca_breast.explained_variance_ratio_))"
   ]
  },
  {
   "cell_type": "code",
   "execution_count": 27,
   "metadata": {},
   "outputs": [
    {
     "data": {
      "text/plain": [
       "<matplotlib.legend.Legend at 0x27809485c40>"
      ]
     },
     "execution_count": 27,
     "metadata": {},
     "output_type": "execute_result"
    },
    {
     "data": {
      "text/plain": [
       "<Figure size 432x288 with 0 Axes>"
      ]
     },
     "metadata": {},
     "output_type": "display_data"
    },
    {
     "data": {
      "image/png": "[encoded data removed]",
      "text/plain": [
       "<Figure size 720x504 with 1 Axes>"
      ]
     },
     "metadata": {},
     "output_type": "display_data"
    }
   ],
   "source": [
    "plt.figure()\n",
    "plt.figure(figsize=(10,7))\n",
    "plt.xticks(fontsize=12)\n",
    "plt.yticks(fontsize=14)\n",
    "plt.xlabel('Principal Component - 1',fontsize=20)\n",
    "plt.ylabel('Principal Component - 2',fontsize=20)\n",
    "plt.title(\"PCA of case fatality rate levels \",fontsize=20)\n",
    "targets = ['u', 'v', 'h', 'm', 'm_l', 'l']\n",
    "colors = ['r', 'g', 'b', 'c', 'y', 'k']\n",
    "for target, color in zip(targets,colors):\n",
    "    indicesToKeep = df_new['CFR'] == target\n",
    "    plt.scatter(pc_DF.loc[indicesToKeep, 'principal component 1']\n",
    "               , pc_DF.loc[indicesToKeep, 'principal component 2'], c = color, s = 50)\n",
    "\n",
    "plt.legend(targets,prop={'size': 15})"
   ]
  }
 ],
 "metadata": {
  "kernelspec": {
   "display_name": "Python 3",
   "language": "python",
   "name": "python3"
  },
  "language_info": {
   "codemirror_mode": {
    "name": "ipython",
    "version": 3
   },
   "file_extension": ".py",
   "mimetype": "text/x-python",
   "name": "python",
   "nbconvert_exporter": "python",
   "pygments_lexer": "ipython3",
   "version": "3.8.3"
  }
 },
 "nbformat": 4,
 "nbformat_minor": 4
}
