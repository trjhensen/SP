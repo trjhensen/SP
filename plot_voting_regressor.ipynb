{
 "cells": [
  {
   "cell_type": "code",
   "execution_count": 1,
   "metadata": {},
   "outputs": [],
   "source": [
    "%matplotlib inline"
   ]
  },
  {
   "cell_type": "markdown",
   "metadata": {},
   "source": [
    "\n",
    "# Plot individual and voting regression predictions\n",
    "\n",
    "\n",
    ".. currentmodule:: sklearn\n",
    "\n",
    "A voting regressor is an ensemble meta-estimator that fits several base\n",
    "regressors, each on the whole dataset. Then it averages the individual\n",
    "predictions to form a final prediction.\n",
    "We will use three different regressors to predict the data:\n",
    ":class:`~ensemble.GradientBoostingRegressor`,\n",
    ":class:`~ensemble.RandomForestRegressor`, and\n",
    ":class:`~linear_model.LinearRegression`).\n",
    "Then the above 3 regressors will be used for the\n",
    ":class:`~ensemble.VotingRegressor`.\n",
    "\n",
    "Finally, we will plot the predictions made by all models for comparison.\n",
    "\n",
    "We will work with the diabetes dataset which consists of 10 features\n",
    "collected from a cohort of diabetes patients. The target is a quantitative\n",
    "measure of disease progression one year after baseline.\n"
   ]
  },
  {
   "cell_type": "code",
   "execution_count": 2,
   "metadata": {},
   "outputs": [
    {
     "name": "stdout",
     "output_type": "stream",
     "text": [
      "Automatically created module for IPython interactive environment\n"
     ]
    }
   ],
   "source": [
    "print(__doc__)\n",
    "\n",
    "import matplotlib.pyplot as plt\n",
    "\n",
    "from sklearn.datasets import load_diabetes\n",
    "from sklearn.ensemble import GradientBoostingRegressor\n",
    "from sklearn.ensemble import RandomForestRegressor\n",
    "from sklearn.linear_model import LinearRegression\n",
    "from sklearn.ensemble import VotingRegressor"
   ]
  },
  {
   "cell_type": "markdown",
   "metadata": {},
   "source": [
    "Training classifiers\n",
    "--------------------------------\n",
    "\n",
    "First, we will load the diabetes dataset and initiate a gradient boosting\n",
    "regressor, a random forest regressor and a linear regression. Next, we will\n",
    "use the 3 regressors to build the voting regressor:\n",
    "\n"
   ]
  },
  {
   "cell_type": "code",
   "execution_count": 7,
   "metadata": {},
   "outputs": [
    {
     "data": {
      "text/plain": [
       "(442, 10)"
      ]
     },
     "execution_count": 7,
     "metadata": {},
     "output_type": "execute_result"
    }
   ],
   "source": [
    "X, y = load_diabetes(return_X_y=True)\n",
    "\n",
    "# Train classifiers\n",
    "reg1 = GradientBoostingRegressor(random_state=1)\n",
    "reg2 = RandomForestRegressor(random_state=1)\n",
    "reg3 = LinearRegression()\n",
    "\n",
    "reg1.fit(X, y)\n",
    "reg2.fit(X, y)\n",
    "reg3.fit(X, y)\n",
    "\n",
    "ereg = VotingRegressor([('gb', reg1), ('rf', reg2), ('lr', reg3)])\n",
    "ereg.fit(X, y)"
   ]
  },
  {
   "cell_type": "markdown",
   "metadata": {},
   "source": [
    "Making predictions\n",
    "--------------------------------\n",
    "\n",
    "Now we will use each of the regressors to make the 20 first predictions.\n",
    "\n"
   ]
  },
  {
   "cell_type": "code",
   "execution_count": 10,
   "metadata": {},
   "outputs": [
    {
     "name": "stdout",
     "output_type": "stream",
     "text": [
      "(20, 10)\n"
     ]
    }
   ],
   "source": [
    "xt = X[:20]\n",
    "print(xt.shape)\n",
    "pred1 = reg1.predict(xt)\n",
    "pred2 = reg2.predict(xt)\n",
    "pred3 = reg3.predict(xt)\n",
    "pred4 = ereg.predict(xt)"
   ]
  },
  {
   "cell_type": "markdown",
   "metadata": {},
   "source": [
    "Plot the results\n",
    "--------------------------------\n",
    "\n",
    "Finally, we will visualize the 20 predictions. The red stars show the average\n",
    "prediction made by :class:`~ensemble.VotingRegressor`.\n",
    "\n"
   ]
  },
  {
   "cell_type": "code",
   "execution_count": 11,
   "metadata": {},
   "outputs": [
    {
     "data": {
      "image/png": "[encoded data removed]",
      "text/plain": [
       "<Figure size 432x288 with 1 Axes>"
      ]
     },
     "metadata": {
      "needs_background": "light"
     },
     "output_type": "display_data"
    }
   ],
   "source": [
    "plt.figure()\n",
    "plt.plot(pred1, 'gd', label='GradientBoostingRegressor')\n",
    "plt.plot(pred2, 'b^', label='RandomForestRegressor')\n",
    "plt.plot(pred3, 'ys', label='LinearRegression')\n",
    "plt.plot(pred4, 'r*', ms=10, label='VotingRegressor')\n",
    "\n",
    "plt.tick_params(axis='x', which='both', bottom=True, top=False,\n",
    "                labelbottom=False)\n",
    "plt.ylabel('predicted')\n",
    "plt.xlabel('training samples')\n",
    "plt.legend(loc=\"best\")\n",
    "plt.title('Regressor predictions and their average')\n",
    "\n",
    "plt.show()"
   ]
  }
 ],
 "metadata": {
  "kernelspec": {
   "display_name": "Python 3",
   "language": "python",
   "name": "python3"
  },
  "language_info": {
   "codemirror_mode": {
    "name": "ipython",
    "version": 3
   },
   "file_extension": ".py",
   "mimetype": "text/x-python",
   "name": "python",
   "nbconvert_exporter": "python",
   "pygments_lexer": "ipython3",
   "version": "3.8.3"
  }
 },
 "nbformat": 4,
 "nbformat_minor": 1
}
