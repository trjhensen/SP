{
 "cells": [
  {
   "cell_type": "code",
   "execution_count": 1,
   "metadata": {
    "collapsed": true
   },
   "outputs": [
    {
     "name": "stdout",
     "output_type": "stream",
     "text": [
      "Requirement already satisfied: jupyterthemes in c:\\users\\tim\\anaconda3\\lib\\site-packages (0.20.0)\n",
      "Requirement already satisfied: jupyter-core in c:\\users\\tim\\anaconda3\\lib\\site-packages (from jupyterthemes) (4.6.3)\n",
      "Requirement already satisfied: notebook>=5.6.0 in c:\\users\\tim\\anaconda3\\lib\\site-packages (from jupyterthemes) (6.0.3)\n",
      "Requirement already satisfied: lesscpy>=0.11.2 in c:\\users\\tim\\anaconda3\\lib\\site-packages (from jupyterthemes) (0.14.0)\n",
      "Requirement already satisfied: matplotlib>=1.4.3 in c:\\users\\tim\\anaconda3\\lib\\site-packages (from jupyterthemes) (3.2.2)\n",
      "Requirement already satisfied: ipython>=5.4.1 in c:\\users\\tim\\anaconda3\\lib\\site-packages (from jupyterthemes) (7.16.1)\n",
      "Requirement already satisfied: pywin32>=1.0; sys_platform == \"win32\" in c:\\users\\tim\\anaconda3\\lib\\site-packages (from jupyter-core->jupyterthemes) (227)\n",
      "Requirement already satisfied: traitlets in c:\\users\\tim\\anaconda3\\lib\\site-packages (from jupyter-core->jupyterthemes) (4.3.3)\n",
      "Requirement already satisfied: nbconvert in c:\\users\\tim\\anaconda3\\lib\\site-packages (from notebook>=5.6.0->jupyterthemes) (5.6.1)\n",
      "Requirement already satisfied: jinja2 in c:\\users\\tim\\anaconda3\\lib\\site-packages (from notebook>=5.6.0->jupyterthemes) (2.11.2)\n",
      "Requirement already satisfied: nbformat in c:\\users\\tim\\anaconda3\\lib\\site-packages (from notebook>=5.6.0->jupyterthemes) (5.0.7)\n",
      "Requirement already satisfied: Send2Trash in c:\\users\\tim\\anaconda3\\lib\\site-packages (from notebook>=5.6.0->jupyterthemes) (1.5.0)\n",
      "Requirement already satisfied: pyzmq>=17 in c:\\users\\tim\\anaconda3\\lib\\site-packages (from notebook>=5.6.0->jupyterthemes) (19.0.1)\n",
      "Requirement already satisfied: ipython-genutils in c:\\users\\tim\\anaconda3\\lib\\site-packages (from notebook>=5.6.0->jupyterthemes) (0.2.0)\n",
      "Requirement already satisfied: tornado>=5.0 in c:\\users\\tim\\anaconda3\\lib\\site-packages (from notebook>=5.6.0->jupyterthemes) (6.0.4)\n",
      "Requirement already satisfied: ipykernel in c:\\users\\tim\\anaconda3\\lib\\site-packages (from notebook>=5.6.0->jupyterthemes) (5.3.2)\n",
      "Requirement already satisfied: jupyter-client>=5.3.4 in c:\\users\\tim\\anaconda3\\lib\\site-packages (from notebook>=5.6.0->jupyterthemes) (6.1.6)\n",
      "Requirement already satisfied: terminado>=0.8.1 in c:\\users\\tim\\anaconda3\\lib\\site-packages (from notebook>=5.6.0->jupyterthemes) (0.8.3)\n",
      "Requirement already satisfied: prometheus-client in c:\\users\\tim\\anaconda3\\lib\\site-packages (from notebook>=5.6.0->jupyterthemes) (0.8.0)\n",
      "Requirement already satisfied: ply in c:\\users\\tim\\anaconda3\\lib\\site-packages (from lesscpy>=0.11.2->jupyterthemes) (3.11)\n",
      "Requirement already satisfied: six in c:\\users\\tim\\anaconda3\\lib\\site-packages (from lesscpy>=0.11.2->jupyterthemes) (1.15.0)\n",
      "Requirement already satisfied: kiwisolver>=1.0.1 in c:\\users\\tim\\anaconda3\\lib\\site-packages (from matplotlib>=1.4.3->jupyterthemes) (1.2.0)\n",
      "Requirement already satisfied: cycler>=0.10 in c:\\users\\tim\\anaconda3\\lib\\site-packages (from matplotlib>=1.4.3->jupyterthemes) (0.10.0)\n",
      "Requirement already satisfied: numpy>=1.11 in c:\\users\\tim\\anaconda3\\lib\\site-packages (from matplotlib>=1.4.3->jupyterthemes) (1.18.5)\n",
      "Requirement already satisfied: pyparsing!=2.0.4,!=2.1.2,!=2.1.6,>=2.0.1 in c:\\users\\tim\\anaconda3\\lib\\site-packages (from matplotlib>=1.4.3->jupyterthemes) (2.4.7)\n",
      "Requirement already satisfied: python-dateutil>=2.1 in c:\\users\\tim\\anaconda3\\lib\\site-packages (from matplotlib>=1.4.3->jupyterthemes) (2.8.1)\n",
      "Requirement already satisfied: prompt-toolkit!=3.0.0,!=3.0.1,<3.1.0,>=2.0.0 in c:\\users\\tim\\anaconda3\\lib\\site-packages (from ipython>=5.4.1->jupyterthemes) (3.0.5)\n",
      "Requirement already satisfied: colorama; sys_platform == \"win32\" in c:\\users\\tim\\anaconda3\\lib\\site-packages (from ipython>=5.4.1->jupyterthemes) (0.4.3)\n",
      "Requirement already satisfied: backcall in c:\\users\\tim\\anaconda3\\lib\\site-packages (from ipython>=5.4.1->jupyterthemes) (0.2.0)\n",
      "Requirement already satisfied: pickleshare in c:\\users\\tim\\anaconda3\\lib\\site-packages (from ipython>=5.4.1->jupyterthemes) (0.7.5)\n",
      "Requirement already satisfied: jedi>=0.10 in c:\\users\\tim\\anaconda3\\lib\\site-packages (from ipython>=5.4.1->jupyterthemes) (0.17.1)\n",
      "Requirement already satisfied: setuptools>=18.5 in c:\\users\\tim\\anaconda3\\lib\\site-packages (from ipython>=5.4.1->jupyterthemes) (49.2.0.post20200714)\n",
      "Requirement already satisfied: decorator in c:\\users\\tim\\anaconda3\\lib\\site-packages (from ipython>=5.4.1->jupyterthemes) (4.4.2)\n",
      "Requirement already satisfied: pygments in c:\\users\\tim\\anaconda3\\lib\\site-packages (from ipython>=5.4.1->jupyterthemes) (2.6.1)\n",
      "Requirement already satisfied: testpath in c:\\users\\tim\\anaconda3\\lib\\site-packages (from nbconvert->notebook>=5.6.0->jupyterthemes) (0.4.4)\n",
      "Requirement already satisfied: mistune<2,>=0.8.1 in c:\\users\\tim\\anaconda3\\lib\\site-packages (from nbconvert->notebook>=5.6.0->jupyterthemes) (0.8.4)\n",
      "Requirement already satisfied: defusedxml in c:\\users\\tim\\anaconda3\\lib\\site-packages (from nbconvert->notebook>=5.6.0->jupyterthemes) (0.6.0)\n",
      "Requirement already satisfied: bleach in c:\\users\\tim\\anaconda3\\lib\\site-packages (from nbconvert->notebook>=5.6.0->jupyterthemes) (3.1.5)\n",
      "Requirement already satisfied: pandocfilters>=1.4.1 in c:\\users\\tim\\anaconda3\\lib\\site-packages (from nbconvert->notebook>=5.6.0->jupyterthemes) (1.4.2)\n",
      "Requirement already satisfied: entrypoints>=0.2.2 in c:\\users\\tim\\anaconda3\\lib\\site-packages (from nbconvert->notebook>=5.6.0->jupyterthemes) (0.3)\n",
      "Requirement already satisfied: MarkupSafe>=0.23 in c:\\users\\tim\\anaconda3\\lib\\site-packages (from jinja2->notebook>=5.6.0->jupyterthemes) (1.1.1)\n",
      "Requirement already satisfied: jsonschema!=2.5.0,>=2.4 in c:\\users\\tim\\anaconda3\\lib\\site-packages (from nbformat->notebook>=5.6.0->jupyterthemes) (3.2.0)\n",
      "Requirement already satisfied: wcwidth in c:\\users\\tim\\anaconda3\\lib\\site-packages (from prompt-toolkit!=3.0.0,!=3.0.1,<3.1.0,>=2.0.0->ipython>=5.4.1->jupyterthemes) (0.2.5)\n",
      "Requirement already satisfied: parso<0.8.0,>=0.7.0 in c:\\users\\tim\\anaconda3\\lib\\site-packages (from jedi>=0.10->ipython>=5.4.1->jupyterthemes) (0.7.0)\n",
      "Requirement already satisfied: webencodings in c:\\users\\tim\\anaconda3\\lib\\site-packages (from bleach->nbconvert->notebook>=5.6.0->jupyterthemes) (0.5.1)\n",
      "Requirement already satisfied: packaging in c:\\users\\tim\\anaconda3\\lib\\site-packages (from bleach->nbconvert->notebook>=5.6.0->jupyterthemes) (20.4)\n",
      "Requirement already satisfied: pyrsistent>=0.14.0 in c:\\users\\tim\\anaconda3\\lib\\site-packages (from jsonschema!=2.5.0,>=2.4->nbformat->notebook>=5.6.0->jupyterthemes) (0.16.0)\n",
      "Requirement already satisfied: attrs>=17.4.0 in c:\\users\\tim\\anaconda3\\lib\\site-packages (from jsonschema!=2.5.0,>=2.4->nbformat->notebook>=5.6.0->jupyterthemes) (19.3.0)\n",
      "Note: you may need to restart the kernel to use updated packages.\n"
     ]
    }
   ],
   "source": [
    "pip install jupyterthemes"
   ]
  },
  {
   "cell_type": "code",
   "execution_count": 2,
   "metadata": {
    "collapsed": true
   },
   "outputs": [
    {
     "name": "stdout",
     "output_type": "stream",
     "text": [
      "Requirement already up-to-date: jupyterthemes in c:\\users\\tim\\anaconda3\\lib\\site-packages (0.20.0)\n",
      "Requirement already satisfied, skipping upgrade: jupyter-core in c:\\users\\tim\\anaconda3\\lib\\site-packages (from jupyterthemes) (4.6.3)\n",
      "Requirement already satisfied, skipping upgrade: notebook>=5.6.0 in c:\\users\\tim\\anaconda3\\lib\\site-packages (from jupyterthemes) (6.0.3)\n",
      "Requirement already satisfied, skipping upgrade: lesscpy>=0.11.2 in c:\\users\\tim\\anaconda3\\lib\\site-packages (from jupyterthemes) (0.14.0)\n",
      "Requirement already satisfied, skipping upgrade: matplotlib>=1.4.3 in c:\\users\\tim\\anaconda3\\lib\\site-packages (from jupyterthemes) (3.2.2)\n",
      "Requirement already satisfied, skipping upgrade: ipython>=5.4.1 in c:\\users\\tim\\anaconda3\\lib\\site-packages (from jupyterthemes) (7.16.1)\n",
      "Requirement already satisfied, skipping upgrade: traitlets in c:\\users\\tim\\anaconda3\\lib\\site-packages (from jupyter-core->jupyterthemes) (4.3.3)\n",
      "Requirement already satisfied, skipping upgrade: pywin32>=1.0; sys_platform == \"win32\" in c:\\users\\tim\\anaconda3\\lib\\site-packages (from jupyter-core->jupyterthemes) (227)\n",
      "Requirement already satisfied, skipping upgrade: Send2Trash in c:\\users\\tim\\anaconda3\\lib\\site-packages (from notebook>=5.6.0->jupyterthemes) (1.5.0)\n",
      "Requirement already satisfied, skipping upgrade: nbformat in c:\\users\\tim\\anaconda3\\lib\\site-packages (from notebook>=5.6.0->jupyterthemes) (5.0.7)\n",
      "Requirement already satisfied, skipping upgrade: tornado>=5.0 in c:\\users\\tim\\anaconda3\\lib\\site-packages (from notebook>=5.6.0->jupyterthemes) (6.0.4)\n",
      "Requirement already satisfied, skipping upgrade: jinja2 in c:\\users\\tim\\anaconda3\\lib\\site-packages (from notebook>=5.6.0->jupyterthemes) (2.11.2)\n",
      "Requirement already satisfied, skipping upgrade: jupyter-client>=5.3.4 in c:\\users\\tim\\anaconda3\\lib\\site-packages (from notebook>=5.6.0->jupyterthemes) (6.1.6)\n",
      "Requirement already satisfied, skipping upgrade: nbconvert in c:\\users\\tim\\anaconda3\\lib\\site-packages (from notebook>=5.6.0->jupyterthemes) (5.6.1)\n",
      "Requirement already satisfied, skipping upgrade: prometheus-client in c:\\users\\tim\\anaconda3\\lib\\site-packages (from notebook>=5.6.0->jupyterthemes) (0.8.0)\n",
      "Requirement already satisfied, skipping upgrade: terminado>=0.8.1 in c:\\users\\tim\\anaconda3\\lib\\site-packages (from notebook>=5.6.0->jupyterthemes) (0.8.3)\n",
      "Requirement already satisfied, skipping upgrade: ipython-genutils in c:\\users\\tim\\anaconda3\\lib\\site-packages (from notebook>=5.6.0->jupyterthemes) (0.2.0)\n",
      "Requirement already satisfied, skipping upgrade: ipykernel in c:\\users\\tim\\anaconda3\\lib\\site-packages (from notebook>=5.6.0->jupyterthemes) (5.3.2)\n",
      "Requirement already satisfied, skipping upgrade: pyzmq>=17 in c:\\users\\tim\\anaconda3\\lib\\site-packages (from notebook>=5.6.0->jupyterthemes) (19.0.1)\n",
      "Requirement already satisfied, skipping upgrade: ply in c:\\users\\tim\\anaconda3\\lib\\site-packages (from lesscpy>=0.11.2->jupyterthemes) (3.11)\n",
      "Requirement already satisfied, skipping upgrade: six in c:\\users\\tim\\anaconda3\\lib\\site-packages (from lesscpy>=0.11.2->jupyterthemes) (1.15.0)\n",
      "Requirement already satisfied, skipping upgrade: kiwisolver>=1.0.1 in c:\\users\\tim\\anaconda3\\lib\\site-packages (from matplotlib>=1.4.3->jupyterthemes) (1.2.0)\n",
      "Requirement already satisfied, skipping upgrade: pyparsing!=2.0.4,!=2.1.2,!=2.1.6,>=2.0.1 in c:\\users\\tim\\anaconda3\\lib\\site-packages (from matplotlib>=1.4.3->jupyterthemes) (2.4.7)\n",
      "Requirement already satisfied, skipping upgrade: numpy>=1.11 in c:\\users\\tim\\anaconda3\\lib\\site-packages (from matplotlib>=1.4.3->jupyterthemes) (1.18.5)\n",
      "Requirement already satisfied, skipping upgrade: python-dateutil>=2.1 in c:\\users\\tim\\anaconda3\\lib\\site-packages (from matplotlib>=1.4.3->jupyterthemes) (2.8.1)\n",
      "Requirement already satisfied, skipping upgrade: cycler>=0.10 in c:\\users\\tim\\anaconda3\\lib\\site-packages (from matplotlib>=1.4.3->jupyterthemes) (0.10.0)\n",
      "Requirement already satisfied, skipping upgrade: prompt-toolkit!=3.0.0,!=3.0.1,<3.1.0,>=2.0.0 in c:\\users\\tim\\anaconda3\\lib\\site-packages (from ipython>=5.4.1->jupyterthemes) (3.0.5)\n",
      "Requirement already satisfied, skipping upgrade: setuptools>=18.5 in c:\\users\\tim\\anaconda3\\lib\\site-packages (from ipython>=5.4.1->jupyterthemes) (49.2.0.post20200714)\n",
      "Requirement already satisfied, skipping upgrade: pickleshare in c:\\users\\tim\\anaconda3\\lib\\site-packages (from ipython>=5.4.1->jupyterthemes) (0.7.5)\n",
      "Requirement already satisfied, skipping upgrade: pygments in c:\\users\\tim\\anaconda3\\lib\\site-packages (from ipython>=5.4.1->jupyterthemes) (2.6.1)\n",
      "Requirement already satisfied, skipping upgrade: decorator in c:\\users\\tim\\anaconda3\\lib\\site-packages (from ipython>=5.4.1->jupyterthemes) (4.4.2)\n",
      "Requirement already satisfied, skipping upgrade: colorama; sys_platform == \"win32\" in c:\\users\\tim\\anaconda3\\lib\\site-packages (from ipython>=5.4.1->jupyterthemes) (0.4.3)\n",
      "Requirement already satisfied, skipping upgrade: backcall in c:\\users\\tim\\anaconda3\\lib\\site-packages (from ipython>=5.4.1->jupyterthemes) (0.2.0)\n",
      "Requirement already satisfied, skipping upgrade: jedi>=0.10 in c:\\users\\tim\\anaconda3\\lib\\site-packages (from ipython>=5.4.1->jupyterthemes) (0.17.1)\n",
      "Requirement already satisfied, skipping upgrade: jsonschema!=2.5.0,>=2.4 in c:\\users\\tim\\anaconda3\\lib\\site-packages (from nbformat->notebook>=5.6.0->jupyterthemes) (3.2.0)\n",
      "Requirement already satisfied, skipping upgrade: MarkupSafe>=0.23 in c:\\users\\tim\\anaconda3\\lib\\site-packages (from jinja2->notebook>=5.6.0->jupyterthemes) (1.1.1)\n",
      "Requirement already satisfied, skipping upgrade: defusedxml in c:\\users\\tim\\anaconda3\\lib\\site-packages (from nbconvert->notebook>=5.6.0->jupyterthemes) (0.6.0)\n",
      "Requirement already satisfied, skipping upgrade: mistune<2,>=0.8.1 in c:\\users\\tim\\anaconda3\\lib\\site-packages (from nbconvert->notebook>=5.6.0->jupyterthemes) (0.8.4)\n",
      "Requirement already satisfied, skipping upgrade: testpath in c:\\users\\tim\\anaconda3\\lib\\site-packages (from nbconvert->notebook>=5.6.0->jupyterthemes) (0.4.4)\n",
      "Requirement already satisfied, skipping upgrade: bleach in c:\\users\\tim\\anaconda3\\lib\\site-packages (from nbconvert->notebook>=5.6.0->jupyterthemes) (3.1.5)\n",
      "Requirement already satisfied, skipping upgrade: pandocfilters>=1.4.1 in c:\\users\\tim\\anaconda3\\lib\\site-packages (from nbconvert->notebook>=5.6.0->jupyterthemes) (1.4.2)\n",
      "Requirement already satisfied, skipping upgrade: entrypoints>=0.2.2 in c:\\users\\tim\\anaconda3\\lib\\site-packages (from nbconvert->notebook>=5.6.0->jupyterthemes) (0.3)\n",
      "Requirement already satisfied, skipping upgrade: wcwidth in c:\\users\\tim\\anaconda3\\lib\\site-packages (from prompt-toolkit!=3.0.0,!=3.0.1,<3.1.0,>=2.0.0->ipython>=5.4.1->jupyterthemes) (0.2.5)\n",
      "Requirement already satisfied, skipping upgrade: parso<0.8.0,>=0.7.0 in c:\\users\\tim\\anaconda3\\lib\\site-packages (from jedi>=0.10->ipython>=5.4.1->jupyterthemes) (0.7.0)\n",
      "Requirement already satisfied, skipping upgrade: pyrsistent>=0.14.0 in c:\\users\\tim\\anaconda3\\lib\\site-packages (from jsonschema!=2.5.0,>=2.4->nbformat->notebook>=5.6.0->jupyterthemes) (0.16.0)\n",
      "Requirement already satisfied, skipping upgrade: attrs>=17.4.0 in c:\\users\\tim\\anaconda3\\lib\\site-packages (from jsonschema!=2.5.0,>=2.4->nbformat->notebook>=5.6.0->jupyterthemes) (19.3.0)\n",
      "Requirement already satisfied, skipping upgrade: webencodings in c:\\users\\tim\\anaconda3\\lib\\site-packages (from bleach->nbconvert->notebook>=5.6.0->jupyterthemes) (0.5.1)\n",
      "Requirement already satisfied, skipping upgrade: packaging in c:\\users\\tim\\anaconda3\\lib\\site-packages (from bleach->nbconvert->notebook>=5.6.0->jupyterthemes) (20.4)\n",
      "Note: you may need to restart the kernel to use updated packages.\n"
     ]
    }
   ],
   "source": [
    "pip install --upgrade jupyterthemes"
   ]
  },
  {
   "cell_type": "code",
   "execution_count": null,
   "metadata": {},
   "outputs": [],
   "source": [
    "pip install --upgrade notebook"
   ]
  },
  {
   "cell_type": "code",
   "execution_count": null,
   "metadata": {},
   "outputs": [],
   "source": []
  }
 ],
 "metadata": {
  "kernelspec": {
   "display_name": "Python 3",
   "language": "python",
   "name": "python3"
  },
  "language_info": {
   "codemirror_mode": {
    "name": "ipython",
    "version": 3
   },
   "file_extension": ".py",
   "mimetype": "text/x-python",
   "name": "python",
   "nbconvert_exporter": "python",
   "pygments_lexer": "ipython3",
   "version": "3.8.3"
  }
 },
 "nbformat": 4,
 "nbformat_minor": 4
}
