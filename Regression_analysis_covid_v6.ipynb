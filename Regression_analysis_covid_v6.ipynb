{
 "cells": [
  {
   "cell_type": "markdown",
   "metadata": {},
   "source": [
    "# Regression analysis"
   ]
  },
  {
   "cell_type": "code",
   "execution_count": 599,
   "metadata": {},
   "outputs": [
    {
     "data": {
      "text/html": [
       "<div>\n",
       "<style scoped>\n",
       "    .dataframe tbody tr th:only-of-type {\n",
       "        vertical-align: middle;\n",
       "    }\n",
       "\n",
       "    .dataframe tbody tr th {\n",
       "        vertical-align: top;\n",
       "    }\n",
       "\n",
       "    .dataframe thead th {\n",
       "        text-align: right;\n",
       "    }\n",
       "</style>\n",
       "<table border=\"1\" class=\"dataframe\">\n",
       "  <thead>\n",
       "    <tr style=\"text-align: right;\">\n",
       "      <th></th>\n",
       "      <th>Unnamed: 0</th>\n",
       "      <th>index</th>\n",
       "      <th>population_density</th>\n",
       "      <th>median_age</th>\n",
       "      <th>aged_70_older</th>\n",
       "      <th>gdp_per_capita</th>\n",
       "      <th>cardiovasc_death_rate</th>\n",
       "      <th>diabetes_prevalence</th>\n",
       "      <th>hospital_beds_per_thousand</th>\n",
       "      <th>life_expectancy</th>\n",
       "      <th>human_development_index</th>\n",
       "      <th>Asthma Prevalence (m/f) Age-standardized</th>\n",
       "      <th>PM2.5 air pollution</th>\n",
       "      <th>Daily smoking prevalence</th>\n",
       "      <th>Prevalence of obesity (both sexes) - WHO (2019)</th>\n",
       "      <th>CFR</th>\n",
       "      <th>anomaly</th>\n",
       "    </tr>\n",
       "  </thead>\n",
       "  <tbody>\n",
       "    <tr>\n",
       "      <th>0</th>\n",
       "      <td>0</td>\n",
       "      <td>0</td>\n",
       "      <td>54.422</td>\n",
       "      <td>18.6</td>\n",
       "      <td>1.337</td>\n",
       "      <td>1803.987</td>\n",
       "      <td>597.029</td>\n",
       "      <td>9.59</td>\n",
       "      <td>0.50</td>\n",
       "      <td>64.83</td>\n",
       "      <td>0.498</td>\n",
       "      <td>6.215770</td>\n",
       "      <td>62.854857</td>\n",
       "      <td>11.900000</td>\n",
       "      <td>5.5</td>\n",
       "      <td>0.036814</td>\n",
       "      <td>1</td>\n",
       "    </tr>\n",
       "    <tr>\n",
       "      <th>1</th>\n",
       "      <td>1</td>\n",
       "      <td>1</td>\n",
       "      <td>104.871</td>\n",
       "      <td>38.0</td>\n",
       "      <td>8.643</td>\n",
       "      <td>11803.431</td>\n",
       "      <td>304.195</td>\n",
       "      <td>10.08</td>\n",
       "      <td>2.89</td>\n",
       "      <td>78.57</td>\n",
       "      <td>0.785</td>\n",
       "      <td>2.870007</td>\n",
       "      <td>14.634008</td>\n",
       "      <td>20.500000</td>\n",
       "      <td>21.7</td>\n",
       "      <td>0.029834</td>\n",
       "      <td>1</td>\n",
       "    </tr>\n",
       "    <tr>\n",
       "      <th>2</th>\n",
       "      <td>2</td>\n",
       "      <td>2</td>\n",
       "      <td>17.348</td>\n",
       "      <td>29.1</td>\n",
       "      <td>3.857</td>\n",
       "      <td>13913.839</td>\n",
       "      <td>278.364</td>\n",
       "      <td>6.73</td>\n",
       "      <td>1.90</td>\n",
       "      <td>76.88</td>\n",
       "      <td>0.754</td>\n",
       "      <td>6.127563</td>\n",
       "      <td>37.230956</td>\n",
       "      <td>11.200000</td>\n",
       "      <td>27.4</td>\n",
       "      <td>0.033503</td>\n",
       "      <td>1</td>\n",
       "    </tr>\n",
       "    <tr>\n",
       "      <th>3</th>\n",
       "      <td>3</td>\n",
       "      <td>6</td>\n",
       "      <td>231.845</td>\n",
       "      <td>32.1</td>\n",
       "      <td>4.631</td>\n",
       "      <td>21490.943</td>\n",
       "      <td>191.511</td>\n",
       "      <td>13.17</td>\n",
       "      <td>3.80</td>\n",
       "      <td>77.02</td>\n",
       "      <td>0.780</td>\n",
       "      <td>7.543192</td>\n",
       "      <td>15.685943</td>\n",
       "      <td>3.400000</td>\n",
       "      <td>18.9</td>\n",
       "      <td>0.031579</td>\n",
       "      <td>1</td>\n",
       "    </tr>\n",
       "    <tr>\n",
       "      <th>4</th>\n",
       "      <td>4</td>\n",
       "      <td>7</td>\n",
       "      <td>16.177</td>\n",
       "      <td>31.9</td>\n",
       "      <td>7.441</td>\n",
       "      <td>18933.907</td>\n",
       "      <td>191.032</td>\n",
       "      <td>5.50</td>\n",
       "      <td>5.00</td>\n",
       "      <td>76.67</td>\n",
       "      <td>0.825</td>\n",
       "      <td>4.820861</td>\n",
       "      <td>14.148167</td>\n",
       "      <td>19.299999</td>\n",
       "      <td>28.3</td>\n",
       "      <td>0.020912</td>\n",
       "      <td>1</td>\n",
       "    </tr>\n",
       "  </tbody>\n",
       "</table>\n",
       "</div>"
      ],
      "text/plain": [
       "   Unnamed: 0  index  population_density  median_age  aged_70_older  \\\n",
       "0           0      0              54.422        18.6          1.337   \n",
       "1           1      1             104.871        38.0          8.643   \n",
       "2           2      2              17.348        29.1          3.857   \n",
       "3           3      6             231.845        32.1          4.631   \n",
       "4           4      7              16.177        31.9          7.441   \n",
       "\n",
       "   gdp_per_capita  cardiovasc_death_rate  diabetes_prevalence  \\\n",
       "0        1803.987                597.029                 9.59   \n",
       "1       11803.431                304.195                10.08   \n",
       "2       13913.839                278.364                 6.73   \n",
       "3       21490.943                191.511                13.17   \n",
       "4       18933.907                191.032                 5.50   \n",
       "\n",
       "   hospital_beds_per_thousand  life_expectancy  human_development_index  \\\n",
       "0                        0.50            64.83                    0.498   \n",
       "1                        2.89            78.57                    0.785   \n",
       "2                        1.90            76.88                    0.754   \n",
       "3                        3.80            77.02                    0.780   \n",
       "4                        5.00            76.67                    0.825   \n",
       "\n",
       "   Asthma Prevalence (m/f) Age-standardized  PM2.5 air pollution  \\\n",
       "0                                  6.215770            62.854857   \n",
       "1                                  2.870007            14.634008   \n",
       "2                                  6.127563            37.230956   \n",
       "3                                  7.543192            15.685943   \n",
       "4                                  4.820861            14.148167   \n",
       "\n",
       "   Daily smoking prevalence   Prevalence of obesity (both sexes) - WHO (2019)  \\\n",
       "0                  11.900000                                              5.5   \n",
       "1                  20.500000                                             21.7   \n",
       "2                  11.200000                                             27.4   \n",
       "3                   3.400000                                             18.9   \n",
       "4                  19.299999                                             28.3   \n",
       "\n",
       "        CFR  anomaly  \n",
       "0  0.036814        1  \n",
       "1  0.029834        1  \n",
       "2  0.033503        1  \n",
       "3  0.031579        1  \n",
       "4  0.020912        1  "
      ]
     },
     "execution_count": 599,
     "metadata": {},
     "output_type": "execute_result"
    }
   ],
   "source": [
    "import pandas as pd\n",
    "import numpy as np\n",
    "from sklearn.preprocessing import StandardScaler\n",
    "import matplotlib.pyplot as plt\n",
    "\n",
    "df_values4 = pd.read_csv(\"df_values4.csv\")\n",
    "df_values4.head()"
   ]
  },
  {
   "cell_type": "code",
   "execution_count": 600,
   "metadata": {},
   "outputs": [],
   "source": [
    "#Normalize \n",
    "df4_scaled = StandardScaler().fit_transform(df_values4)\n",
    "df_norm1 = pd.DataFrame(df4_scaled)#Transform numpy into a dataframe"
   ]
  },
  {
   "cell_type": "code",
   "execution_count": 618,
   "metadata": {},
   "outputs": [
    {
     "name": "stdout",
     "output_type": "stream",
     "text": [
      "(111, 13) (111,) (28, 13) (28,)\n",
      "0.7102061464803621 0.710286486036573 0.7174344159303655 0.707648332181972\n"
     ]
    }
   ],
   "source": [
    "from sklearn.cross_decomposition import PLSRegression\n",
    "from sklearn.metrics import mean_squared_error \n",
    "\n",
    "pred2 = []; pred3 = []; pred4 = []; pred5 = [] #Initialize lists for prediction values\n",
    "R2a = []; R3a = []; R4a = []; R5a = [] #Initialize lists for RSME scores\n",
    "kfold = range(20) #number of iterations\n",
    "\n",
    "# K fold cross validation\n",
    "for i in kfold:\n",
    "    #split train and test data randomly with 20% test and 80% train data\n",
    "    train, test = train_test_split(df_norm1, test_size=0.2)\n",
    "    #y is the target variable CFR\n",
    "    x_train = train.iloc[:,2:15] \n",
    "    x_test = test.iloc[:,2:15] \n",
    "    y_train = train.iloc[:,15]\n",
    "    y_test = test.iloc[:,15]\n",
    "    \n",
    "    #Train PLS model\n",
    "    PLS2 = PLSRegression(n_components=2).fit(x_train,y_train)\n",
    "    PLS3 = PLSRegression(n_components=3).fit(x_train,y_train)\n",
    "    PLS4 = PLSRegression(n_components=4).fit(x_train,y_train)\n",
    "    PLS5 = PLSRegression(n_components=5).fit(x_train,y_train)\n",
    "    \n",
    "    #Predict y using the trained model\n",
    "    y_predP2 = PLS2.predict(x_test); y_predP3 = PLS3.predict(x_test);\n",
    "    y_predP4 = PLS4.predict(x_test); y_predP5 = PLS5.predict(x_test)\n",
    "    \n",
    "    #Append the test results for each kfold iteration in pred{x}\n",
    "    pred2.append(y_predP2); pred3.append(y_predP3);\n",
    "    pred4.append(y_predP4); pred5.append(y_predP5)\n",
    "\n",
    "    #The pred{x} lists are 10x longer than the number of predicted values for each iteration. Here, they are \n",
    "    #transformed into dataframes of dimension 42,10\n",
    "\n",
    "    #convert lists in arrays (3d)\n",
    "    pred2a = np.array(pred2) ; pred3a = np.array(pred3); pred4a = np.array(pred4); pred5a = np.array(pred5) \n",
    "    # delete third dimension\n",
    "    pred2a = pred2a[:, :, 0]; pred3a = pred3a[:, :, 0]; \n",
    "    pred4a = pred4a[:, :, 0]; pred5a = pred5a[:, :, 0]\n",
    "\n",
    "    #transform so each iteration is a column\n",
    "    pred2a = pd.DataFrame(pred2a.T)\n",
    "    pred3a = pd.DataFrame(pred3a.T)\n",
    "    pred4a = pd.DataFrame(pred4a.T)\n",
    "    pred5a = pd.DataFrame(pred5a.T)\n",
    "    \n",
    "    #Determine the RSME of each iteration and latent variable\n",
    "    RMSE_P2a = np.sqrt(mean_squared_error(y_test,pred2a.iloc[:,i]))\n",
    "    RMSE_P3a = np.sqrt(mean_squared_error(y_test,pred3a.iloc[:,i]))\n",
    "    RMSE_P4a = np.sqrt(mean_squared_error(y_test,pred4a.iloc[:,i]))\n",
    "    RMSE_P5a = np.sqrt(mean_squared_error(y_test,pred5a.iloc[:,i]))\n",
    "    \n",
    "    #Append the RSME values to R{x}a for each kfold iteration\n",
    "    R2a.append(RMSE_P2a)\n",
    "    R3a.append(RMSE_P3a)\n",
    "    R4a.append(RMSE_P4a)\n",
    "    R5a.append(RMSE_P5a)\n",
    "\n",
    "    i = i+1\n",
    "    \n",
    "print(x_train.shape, y_train.shape, x_test.shape, y_test.shape)    \n",
    "print(min(R2a), min(R3a), min(R4a), min(R5a))"
   ]
  },
  {
   "cell_type": "code",
   "execution_count": 610,
   "metadata": {
    "scrolled": true
   },
   "outputs": [
    {
     "data": {
      "text/plain": [
       "<matplotlib.legend.Legend at 0x2eb1f223df0>"
      ]
     },
     "execution_count": 610,
     "metadata": {},
     "output_type": "execute_result"
    },
    {
     "data": {
      "image/png": "[encoded data removed]",
      "text/plain": [
       "<Figure size 432x288 with 1 Axes>"
      ]
     },
     "metadata": {
      "needs_background": "light"
     },
     "output_type": "display_data"
    }
   ],
   "source": [
    "#Plot the RSME over the iterations\n",
    "plt.plot(R2a); plt.plot(R3a); plt.plot(R4a); plt.plot(R5a)\n",
    "plt.title('RSME score over ' + str(kfold) + ' iterations')\n",
    "plt.xlabel('iteration')\n",
    "plt.ylabel('RSME score')\n",
    "plt.legend(['R2a', 'R3a', 'R4a', 'R5a'])"
   ]
  },
  {
   "cell_type": "code",
   "execution_count": 611,
   "metadata": {
    "scrolled": true
   },
   "outputs": [
    {
     "data": {
      "text/plain": [
       "array([0, 0, 0, 0], dtype=int64)"
      ]
     },
     "execution_count": 611,
     "metadata": {},
     "output_type": "execute_result"
    }
   ],
   "source": [
    "# Merge each number of latent variables in one datafram\n",
    "R2b = pd.DataFrame(R2a); R3b = pd.DataFrame(R3a); R4b = pd.DataFrame(R4a); R5b = pd.DataFrame(R5a)\n",
    "R2x = pd.concat([R2b, R3b, R4b, R5b], axis=1)\n",
    "R2x.columns = [['2lat', '3lat', '4lat', '5lat']]\n",
    "\n",
    "# add index values\n",
    "R2x['index'] = kfold\n",
    "\n",
    "# Subset each column + index \n",
    "r2x2 = R2x[['2lat', 'index']]\n",
    "r2x3 = R2x[['3lat', 'index']]\n",
    "r2x4 = R2x[['4lat', 'index']]\n",
    "r2x5 = R2x[['5lat', 'index']]\n",
    "\n",
    "# Get the iteration with the smallest RSME value for each number of latent variables\n",
    "L2 = r2x2.iloc[:,1][r2x2.iloc[:,0] == r2x2.iloc[:,0].min()]\n",
    "L3 = r2x3.iloc[:,1][r2x3.iloc[:,0] == r2x3.iloc[:,0].min()]\n",
    "L4 = r2x4.iloc[:,1][r2x4.iloc[:,0] == r2x4.iloc[:,0].min()]\n",
    "L5 = r2x5.iloc[:,1][r2x5.iloc[:,0] == r2x5.iloc[:,0].min()]\n",
    "\n",
    "# List each iteration with the minimal RSME\n",
    "R_index = []\n",
    "R_index.append(L2.iloc[0]); R_index.append(L3.iloc[0]); R_index.append(L4.iloc[0]);\n",
    "R_index.append(L5.iloc[0])\n",
    "\n",
    "R_index = pd.DataFrame(R_index)\n",
    "R_index = np.array(R_index.iloc[:,0])\n",
    "R_index"
   ]
  },
  {
   "cell_type": "code",
   "execution_count": 617,
   "metadata": {},
   "outputs": [
    {
     "data": {
      "text/plain": [
       "[<matplotlib.lines.Line2D at 0x2eb209f6820>]"
      ]
     },
     "execution_count": 617,
     "metadata": {},
     "output_type": "execute_result"
    },
    {
     "data": {
      "image/png": "[encoded data removed]",
      "text/plain": [
       "<Figure size 1152x576 with 1 Axes>"
      ]
     },
     "metadata": {
      "needs_background": "light"
     },
     "output_type": "display_data"
    }
   ],
   "source": [
    "#Select the iterations with the minimum RSME\n",
    "pred2b = pred2a.iloc[:,int(R_index[0])]\n",
    "pred3b = pred3a.iloc[:,int(R_index[1])]\n",
    "pred4b = pred4a.iloc[:,int(R_index[2])]\n",
    "pred5b = pred5a.iloc[:,int(R_index[3])]\n",
    "\n",
    "#Plot predicted target values against the real target values\n",
    "ax1 = plt.figure(figsize=(16,8))\n",
    "ax1=plt.subplot(231)\n",
    "ax1.scatter(y_test,pred2b,c='red')\n",
    "ax1.set_title('PLS regression')\n",
    "ax1.plot(y_test, y_test)"
   ]
  },
  {
   "cell_type": "code",
   "execution_count": 620,
   "metadata": {},
   "outputs": [
    {
     "data": {
      "text/plain": [
       "Text(0.7, -1.0, 'RMSE = 0.708')"
      ]
     },
     "execution_count": 620,
     "metadata": {},
     "output_type": "execute_result"
    },
    {
     "data": {
      "image/png": "[encoded data removed]",
      "text/plain": [
       "<Figure size 1152x576 with 4 Axes>"
      ]
     },
     "metadata": {
      "needs_background": "light"
     },
     "output_type": "display_data"
    }
   ],
   "source": [
    "#Plot predicted target values against the real target values\n",
    "\n",
    "ax = plt.figure(figsize=(16,8))\n",
    "\n",
    "ax1=plt.subplot(241)\n",
    "ax1.scatter(y_test,pred2b,c='red')\n",
    "ax1.plot(y_test, y_test)\n",
    "ax1.set_title('PLS regression lat=2')\n",
    "ax1.set_xlabel('actual value')\n",
    "ax1.set_ylabel('predicted value')\n",
    "ax1.text(0.7,-1.0, 'RMSE ='+str(round(min(R2a),3)))\n",
    "\n",
    "ax2=plt.subplot(242)\n",
    "ax2.scatter(y_test,pred3b,c='red')\n",
    "ax2.plot(y_test, y_test)\n",
    "ax2.set_title('PLS regression lat=3')\n",
    "ax2.set_xlabel('actual value')\n",
    "ax2.set_ylabel('predicted value')\n",
    "ax2.text(0.7,-1.0, 'RMSE ='+str(round(min(R3a),3)))\n",
    "\n",
    "ax3=plt.subplot(243)\n",
    "ax3.scatter(y_test,pred4b,c='red')\n",
    "ax3.plot(y_test, y_test)\n",
    "ax3.set_title('PLS regression lat=4')\n",
    "ax3.set_xlabel('actual value')\n",
    "ax3.set_ylabel('predicted value')\n",
    "ax3.text(0.7,-1.0, 'RMSE ='+str(round(min(R4a),3)))\n",
    "\n",
    "ax4=plt.subplot(244)\n",
    "ax4.scatter(y_test,pred5b,c='red')\n",
    "ax4.plot(y_test, y_test)\n",
    "ax4.set_title('PLS regression lat=5')\n",
    "ax4.set_xlabel('actual value')\n",
    "ax4.set_ylabel('predicted value')\n",
    "ax4.text(0.7,-1.0, 'RMSE = '+str(round(min(R5a),3)))"
   ]
  },
  {
   "cell_type": "code",
   "execution_count": 605,
   "metadata": {},
   "outputs": [
    {
     "data": {
      "text/html": [
       "<div>\n",
       "<style scoped>\n",
       "    .dataframe tbody tr th:only-of-type {\n",
       "        vertical-align: middle;\n",
       "    }\n",
       "\n",
       "    .dataframe tbody tr th {\n",
       "        vertical-align: top;\n",
       "    }\n",
       "\n",
       "    .dataframe thead th {\n",
       "        text-align: right;\n",
       "    }\n",
       "</style>\n",
       "<table border=\"1\" class=\"dataframe\">\n",
       "  <thead>\n",
       "    <tr style=\"text-align: right;\">\n",
       "      <th></th>\n",
       "      <th>2</th>\n",
       "      <th>3</th>\n",
       "      <th>4</th>\n",
       "      <th>5</th>\n",
       "      <th>6</th>\n",
       "      <th>7</th>\n",
       "      <th>8</th>\n",
       "      <th>9</th>\n",
       "      <th>10</th>\n",
       "      <th>11</th>\n",
       "      <th>12</th>\n",
       "      <th>13</th>\n",
       "      <th>14</th>\n",
       "    </tr>\n",
       "  </thead>\n",
       "  <tbody>\n",
       "    <tr>\n",
       "      <th>0</th>\n",
       "      <td>-0.436011</td>\n",
       "      <td>-1.444607</td>\n",
       "      <td>-1.113489</td>\n",
       "      <td>-0.958137</td>\n",
       "      <td>2.987489</td>\n",
       "      <td>0.641913</td>\n",
       "      <td>-1.121513</td>\n",
       "      <td>-1.280372</td>\n",
       "      <td>-1.551508</td>\n",
       "      <td>0.758142</td>\n",
       "      <td>1.301107</td>\n",
       "      <td>-0.642406</td>\n",
       "      <td>-1.537415</td>\n",
       "    </tr>\n",
       "    <tr>\n",
       "      <th>1</th>\n",
       "      <td>-0.181332</td>\n",
       "      <td>0.801301</td>\n",
       "      <td>0.666281</td>\n",
       "      <td>-0.361438</td>\n",
       "      <td>0.430485</td>\n",
       "      <td>0.789803</td>\n",
       "      <td>0.003379</td>\n",
       "      <td>0.777052</td>\n",
       "      <td>0.436362</td>\n",
       "      <td>-1.313200</td>\n",
       "      <td>-0.663076</td>\n",
       "      <td>0.442091</td>\n",
       "      <td>0.389424</td>\n",
       "    </tr>\n",
       "    <tr>\n",
       "      <th>2</th>\n",
       "      <td>-0.623170</td>\n",
       "      <td>-0.229038</td>\n",
       "      <td>-0.499607</td>\n",
       "      <td>-0.235503</td>\n",
       "      <td>0.204931</td>\n",
       "      <td>-0.221281</td>\n",
       "      <td>-0.462580</td>\n",
       "      <td>0.523992</td>\n",
       "      <td>0.221644</td>\n",
       "      <td>0.703533</td>\n",
       "      <td>0.257367</td>\n",
       "      <td>-0.730679</td>\n",
       "      <td>1.067386</td>\n",
       "    </tr>\n",
       "    <tr>\n",
       "      <th>3</th>\n",
       "      <td>0.459665</td>\n",
       "      <td>0.118267</td>\n",
       "      <td>-0.311058</td>\n",
       "      <td>0.216648</td>\n",
       "      <td>-0.553462</td>\n",
       "      <td>1.722416</td>\n",
       "      <td>0.431686</td>\n",
       "      <td>0.544956</td>\n",
       "      <td>0.401730</td>\n",
       "      <td>1.579940</td>\n",
       "      <td>-0.620227</td>\n",
       "      <td>-1.714293</td>\n",
       "      <td>0.056390</td>\n",
       "    </tr>\n",
       "    <tr>\n",
       "      <th>4</th>\n",
       "      <td>-0.629081</td>\n",
       "      <td>0.095113</td>\n",
       "      <td>0.373469</td>\n",
       "      <td>0.064061</td>\n",
       "      <td>-0.557645</td>\n",
       "      <td>-0.592515</td>\n",
       "      <td>0.996486</td>\n",
       "      <td>0.492547</td>\n",
       "      <td>0.713417</td>\n",
       "      <td>-0.105438</td>\n",
       "      <td>-0.682865</td>\n",
       "      <td>0.290766</td>\n",
       "      <td>1.174432</td>\n",
       "    </tr>\n",
       "  </tbody>\n",
       "</table>\n",
       "</div>"
      ],
      "text/plain": [
       "          2         3         4         5         6         7         8  \\\n",
       "0 -0.436011 -1.444607 -1.113489 -0.958137  2.987489  0.641913 -1.121513   \n",
       "1 -0.181332  0.801301  0.666281 -0.361438  0.430485  0.789803  0.003379   \n",
       "2 -0.623170 -0.229038 -0.499607 -0.235503  0.204931 -0.221281 -0.462580   \n",
       "3  0.459665  0.118267 -0.311058  0.216648 -0.553462  1.722416  0.431686   \n",
       "4 -0.629081  0.095113  0.373469  0.064061 -0.557645 -0.592515  0.996486   \n",
       "\n",
       "          9        10        11        12        13        14  \n",
       "0 -1.280372 -1.551508  0.758142  1.301107 -0.642406 -1.537415  \n",
       "1  0.777052  0.436362 -1.313200 -0.663076  0.442091  0.389424  \n",
       "2  0.523992  0.221644  0.703533  0.257367 -0.730679  1.067386  \n",
       "3  0.544956  0.401730  1.579940 -0.620227 -1.714293  0.056390  \n",
       "4  0.492547  0.713417 -0.105438 -0.682865  0.290766  1.174432  "
      ]
     },
     "execution_count": 605,
     "metadata": {},
     "output_type": "execute_result"
    }
   ],
   "source": [
    "\n",
    "x = df_norm1.iloc[:,2:15] \n",
    "y = df_norm1.iloc[:,15] #CFR\n",
    "x.head()"
   ]
  },
  {
   "cell_type": "code",
   "execution_count": 606,
   "metadata": {
    "scrolled": false
   },
   "outputs": [
    {
     "data": {
      "text/plain": [
       "(0.044100331060137624, 0.11195540591013024)"
      ]
     },
     "execution_count": 606,
     "metadata": {},
     "output_type": "execute_result"
    }
   ],
   "source": [
    "from sklearn.linear_model import LinearRegression\n",
    "from sklearn.model_selection import cross_val_score\n",
    "from sklearn.cross_decomposition import PLSRegression\n",
    "\n",
    "LR = LinearRegression(normalize=True).fit(x, y)\n",
    "PLS = PLSRegression(n_components=2).fit(x,y)\n",
    "\n",
    "scoreL = []\n",
    "scoreP = []\n",
    "\n",
    "# CV: Find the number of folds, leading to the highest R2 score\n",
    "for i in range(2,20):\n",
    "    scoresL = cross_val_score(LR, x, y, cv=i)\n",
    "    scoresP = cross_val_score(PLS, x, y, cv=i)\n",
    "\n",
    "    scoreL.append(scoresL.mean())\n",
    "    scoreP.append(scoresP.mean())\n",
    "\n",
    "max(scoreL), max(scoreP)\n",
    "# plt.plot(scoreL)"
   ]
  },
  {
   "cell_type": "code",
   "execution_count": 607,
   "metadata": {},
   "outputs": [
    {
     "ename": "TypeError",
     "evalue": "__init__() got an unexpected keyword argument 'oob'",
     "output_type": "error",
     "traceback": [
      "\u001b[1;31m---------------------------------------------------------------------------\u001b[0m",
      "\u001b[1;31mTypeError\u001b[0m                                 Traceback (most recent call last)",
      "\u001b[1;32m<ipython-input-607-00732875f3c7>\u001b[0m in \u001b[0;36m<module>\u001b[1;34m\u001b[0m\n\u001b[0;32m      1\u001b[0m \u001b[1;32mfrom\u001b[0m \u001b[0msklearn\u001b[0m\u001b[1;33m.\u001b[0m\u001b[0mensemble\u001b[0m \u001b[1;32mimport\u001b[0m \u001b[0mRandomForestRegressor\u001b[0m\u001b[1;33m\u001b[0m\u001b[1;33m\u001b[0m\u001b[0m\n\u001b[0;32m      2\u001b[0m \u001b[1;33m\u001b[0m\u001b[0m\n\u001b[1;32m----> 3\u001b[1;33m \u001b[0mRFR\u001b[0m \u001b[1;33m=\u001b[0m \u001b[0mRandomForestRegressor\u001b[0m\u001b[1;33m(\u001b[0m\u001b[0mrandom_state\u001b[0m\u001b[1;33m=\u001b[0m\u001b[1;36m0\u001b[0m\u001b[1;33m,\u001b[0m \u001b[0moob\u001b[0m\u001b[1;33m=\u001b[0m\u001b[1;32mTrue\u001b[0m\u001b[1;33m)\u001b[0m\u001b[1;33m.\u001b[0m\u001b[0mfit\u001b[0m\u001b[1;33m(\u001b[0m\u001b[0mx\u001b[0m\u001b[1;33m,\u001b[0m\u001b[0my\u001b[0m\u001b[1;33m)\u001b[0m\u001b[1;33m\u001b[0m\u001b[1;33m\u001b[0m\u001b[0m\n\u001b[0m\u001b[0;32m      4\u001b[0m \u001b[0mRFR_R2\u001b[0m \u001b[1;33m=\u001b[0m \u001b[0mRFR\u001b[0m\u001b[1;33m.\u001b[0m\u001b[0mscore\u001b[0m\u001b[1;33m(\u001b[0m\u001b[0mx\u001b[0m\u001b[1;33m,\u001b[0m\u001b[0my\u001b[0m\u001b[1;33m)\u001b[0m\u001b[1;33m\u001b[0m\u001b[1;33m\u001b[0m\u001b[0m\n\u001b[0;32m      5\u001b[0m \u001b[0mRFR_R2\u001b[0m\u001b[1;33m\u001b[0m\u001b[1;33m\u001b[0m\u001b[0m\n",
      "\u001b[1;32m~\\anaconda3\\lib\\site-packages\\sklearn\\utils\\validation.py\u001b[0m in \u001b[0;36minner_f\u001b[1;34m(*args, **kwargs)\u001b[0m\n\u001b[0;32m     71\u001b[0m                           FutureWarning)\n\u001b[0;32m     72\u001b[0m         \u001b[0mkwargs\u001b[0m\u001b[1;33m.\u001b[0m\u001b[0mupdate\u001b[0m\u001b[1;33m(\u001b[0m\u001b[1;33m{\u001b[0m\u001b[0mk\u001b[0m\u001b[1;33m:\u001b[0m \u001b[0marg\u001b[0m \u001b[1;32mfor\u001b[0m \u001b[0mk\u001b[0m\u001b[1;33m,\u001b[0m \u001b[0marg\u001b[0m \u001b[1;32min\u001b[0m \u001b[0mzip\u001b[0m\u001b[1;33m(\u001b[0m\u001b[0msig\u001b[0m\u001b[1;33m.\u001b[0m\u001b[0mparameters\u001b[0m\u001b[1;33m,\u001b[0m \u001b[0margs\u001b[0m\u001b[1;33m)\u001b[0m\u001b[1;33m}\u001b[0m\u001b[1;33m)\u001b[0m\u001b[1;33m\u001b[0m\u001b[1;33m\u001b[0m\u001b[0m\n\u001b[1;32m---> 73\u001b[1;33m         \u001b[1;32mreturn\u001b[0m \u001b[0mf\u001b[0m\u001b[1;33m(\u001b[0m\u001b[1;33m**\u001b[0m\u001b[0mkwargs\u001b[0m\u001b[1;33m)\u001b[0m\u001b[1;33m\u001b[0m\u001b[1;33m\u001b[0m\u001b[0m\n\u001b[0m\u001b[0;32m     74\u001b[0m     \u001b[1;32mreturn\u001b[0m \u001b[0minner_f\u001b[0m\u001b[1;33m\u001b[0m\u001b[1;33m\u001b[0m\u001b[0m\n\u001b[0;32m     75\u001b[0m \u001b[1;33m\u001b[0m\u001b[0m\n",
      "\u001b[1;31mTypeError\u001b[0m: __init__() got an unexpected keyword argument 'oob'"
     ]
    }
   ],
   "source": [
    "from sklearn.ensemble import RandomForestRegressor\n",
    "\n",
    "RFR = RandomForestRegressor(random_state=0, oob=True).fit(x,y)\n",
    "RFR_R2 = RFR.score(x,y)\n",
    "RFR_R2"
   ]
  },
  {
   "cell_type": "code",
   "execution_count": null,
   "metadata": {},
   "outputs": [],
   "source": [
    "from sklearn.model_selection import cross_val_predict\n",
    "y_predL = cross_val_predict(LR, x, y, cv=5)\n",
    "y_predP = cross_val_predict(PLS, x, y, cv=5)\n",
    "y_predR = cross_val_predict(RFR, x, y, cv=5)\n",
    "y_predL.shape, y_predP.shape, y_predR.shape"
   ]
  },
  {
   "cell_type": "code",
   "execution_count": null,
   "metadata": {},
   "outputs": [],
   "source": [
    "LR2 = LinearRegression()\n",
    "LR2 = LR2.fit(x,y)\n",
    "y_predL2 = cross_val_predict(LR2, x, y, cv=5)\n",
    "RMSE_L = np.sqrt(mean_squared_error(y,y_predL2))\n",
    "RMSE_L"
   ]
  },
  {
   "cell_type": "code",
   "execution_count": null,
   "metadata": {},
   "outputs": [],
   "source": [
    "from sklearn.linear_model import Lasso\n",
    "from sklearn import linear_model\n",
    "\n",
    "lasso = linear_model.Lasso()\n",
    "y_pred = cross_val_predict(lasso, x, y, cv=5)\n",
    "RMSE = np.sqrt(mean_squared_error(y,y_pred))\n",
    "print(RMSE)\n",
    "plt.scatter(y,y_pred)"
   ]
  },
  {
   "cell_type": "code",
   "execution_count": null,
   "metadata": {},
   "outputs": [],
   "source": [
    "from sklearn.metrics import mean_squared_error \n",
    "RMSE_L = np.sqrt(mean_squared_error(y,y_predL))\n",
    "RMSE_P = np.sqrt(mean_squared_error(y,y_predP))\n",
    "RMSE_R = np.sqrt(mean_squared_error(y,y_predR))\n",
    "\n",
    "RMSE_L, RMSE_P, RMSE_R"
   ]
  },
  {
   "cell_type": "code",
   "execution_count": null,
   "metadata": {
    "scrolled": true
   },
   "outputs": [],
   "source": [
    "#Plot predicted target values against the real target values\n",
    "\n",
    "ax = plt.figure(figsize=(16,8))\n",
    "ax1=plt.subplot(231)\n",
    "ax1.scatter(y,y_predL,c='red')\n",
    "ax1.set_title('Linear regression')\n",
    "ax1.plot(y_test, y_test)\n",
    "ax1.set_xlabel('actual value')\n",
    "ax1.set_ylabel('predicted value')\n",
    "ax1.text(0.7,-1.0, 'RMSE ='+str(round(RMSE_L,3)))\n",
    "\n",
    "ax2=plt.subplot(232)\n",
    "ax2.scatter(y,y_predP,c='red')\n",
    "ax2.plot(y_test, y_test)\n",
    "ax2.set_title('PLS regression')\n",
    "ax2.set_xlabel('actual value')\n",
    "ax2.set_ylabel('predicted value')\n",
    "ax2.text(0.7,-1.0, 'RMSE ='+str(round(RMSE_P,3)))\n",
    "\n",
    "ax3=plt.subplot(233)\n",
    "ax3.scatter(y,y_predR,c='red')\n",
    "ax3.plot(y_test, y_test)\n",
    "ax3.set_title('Random forest regression')\n",
    "ax3.set_xlabel('actual value')\n",
    "ax3.set_ylabel('predicted value')\n",
    "ax3.text(0.7,-1.0, 'RMSE ='+str(round(RMSE_R,3)))"
   ]
  },
  {
   "cell_type": "code",
   "execution_count": null,
   "metadata": {
    "scrolled": true
   },
   "outputs": [],
   "source": [
    "#RF feature importances\n",
    "df_values5 = df_values4.drop(df_values4[['Unnamed: 0', 'index', 'anomaly', 'CFR']], axis=1)\n",
    "\n",
    "plt.barh(np.array(df_values5.columns), RFR.feature_importances_)\n",
    "plt.title('Random forest feature importances')\n",
    "plt.xlabel('Feature importance')"
   ]
  },
  {
   "cell_type": "markdown",
   "metadata": {},
   "source": [
    "# No cross validation"
   ]
  },
  {
   "cell_type": "code",
   "execution_count": null,
   "metadata": {},
   "outputs": [],
   "source": [
    "# #Make predictions -> no cv yet\n",
    "y_predL = LR.predict(x_test)\n",
    "y_predP = PLS.predict(x_test)\n",
    "y_predR = RFR.predict(x_test)\n",
    "y_predL.shape, y_predP.shape, y_predR.shape"
   ]
  },
  {
   "cell_type": "code",
   "execution_count": null,
   "metadata": {},
   "outputs": [],
   "source": [
    "#making sure the test and prediction sets have the same shape\n",
    "y_test = pd.DataFrame(y_test)\n",
    "y_test = y_test.reset_index()\n",
    "y_test = y_test.drop('index', axis=1)\n",
    "y_test = np.array(y_test)"
   ]
  },
  {
   "cell_type": "code",
   "execution_count": null,
   "metadata": {},
   "outputs": [],
   "source": [
    "#Determine the root mean square value\n",
    "from sklearn.metrics import mean_squared_error \n",
    "RMSE_L = np.sqrt(mean_squared_error(y_test,y_predL))\n",
    "RMSE_P = np.sqrt(mean_squared_error(y_test,y_predP))\n",
    "RMSE_R = np.sqrt(mean_squared_error(y_test,y_predR))\n",
    "\n",
    "RMSE_L, RMSE_P, RMSE_R"
   ]
  },
  {
   "cell_type": "code",
   "execution_count": null,
   "metadata": {
    "scrolled": true
   },
   "outputs": [],
   "source": [
    "#Plot predicted target values against the real target values\n",
    "\n",
    "ax = plt.figure(figsize=(16,8))\n",
    "ax1=plt.subplot(231)\n",
    "ax1.scatter(y_test,y_predL,c='red')\n",
    "ax1.set_title('Linear regression')\n",
    "ax1.plot(y_test, y_test)\n",
    "ax1.set_xlabel('actual value')\n",
    "ax1.set_ylabel('predicted value')\n",
    "ax1.text(0.7,-1.0, 'RMSE ='+str(round(RMSE_L,3)))\n",
    "\n",
    "ax2=plt.subplot(232)\n",
    "ax2.scatter(y_test,y_predP,c='red')\n",
    "ax2.plot(y_test, y_test)\n",
    "ax2.set_title('PLS regression')\n",
    "ax2.set_xlabel('actual value')\n",
    "ax2.set_ylabel('predicted value')\n",
    "ax2.text(0.7,-1.0, 'RMSE ='+str(round(RMSE_P,3)))\n",
    "\n",
    "ax3=plt.subplot(233)\n",
    "ax3.scatter(y_test,y_predR,c='red')\n",
    "ax3.plot(y_test, y_test)\n",
    "ax3.set_title('Random forest regression')\n",
    "ax3.set_xlabel('actual value')\n",
    "ax3.set_ylabel('predicted value')\n",
    "ax3.text(0.7,-1.0, 'RMSE ='+str(round(RMSE_R,3)))"
   ]
  },
  {
   "cell_type": "code",
   "execution_count": null,
   "metadata": {},
   "outputs": [],
   "source": [
    "from tabulate import tabulate\n",
    "\n",
    "# Compare coefficients between LR and PLS and RFR\n",
    "df_values5 = df_values4.drop(df_values4[['Unnamed: 0', 'index', 'anomaly', 'CFR']], axis=1)\n",
    "col = pd.DataFrame(df_values5.columns)\n",
    "coefLR = pd.DataFrame(abs(LR.coef_))\n",
    "coefPLS = pd.DataFrame(abs(PLS.coef_))\n",
    "RFR_imp = pd.DataFrame(RFR.feature_importances_)\n",
    "\n",
    "df5 = pd.concat([col, coefLR, coefPLS, RFR_imp], axis=1)\n",
    "print(tabulate(df5, headers= ['feature', 'LR_imp', 'PLS_imp', 'RFR_imp'], tablefmt='presto'))"
   ]
  },
  {
   "cell_type": "code",
   "execution_count": null,
   "metadata": {},
   "outputs": [],
   "source": [
    "ax = plt.figure(figsize=(16,8))\n",
    "ax1=plt.subplot(221)\n",
    "ax1.barh(np.array(df_values5.columns), PLS.coef_)"
   ]
  },
  {
   "cell_type": "code",
   "execution_count": null,
   "metadata": {},
   "outputs": [],
   "source": [
    "ax = plt.figure(figsize=(16,8))\n",
    "ax1=plt.subplot(221)\n",
    "ax1.barh(np.array(df_values5.columns), LR.coef_)\n",
    "ax1.set_title('LR feature coefficients')"
   ]
  },
  {
   "cell_type": "code",
   "execution_count": null,
   "metadata": {
    "scrolled": true
   },
   "outputs": [],
   "source": [
    "df_values5.columns.shape, RFR.feature_importances_.shape"
   ]
  },
  {
   "cell_type": "code",
   "execution_count": null,
   "metadata": {},
   "outputs": [],
   "source": [
    "#RF feature importances\n",
    "plt.barh(np.array(df_values5.columns), RFR.feature_importances_)\n",
    "plt.title('Random forest feature importances')\n",
    "plt.xlabel('Feature importance')"
   ]
  }
 ],
 "metadata": {
  "kernelspec": {
   "display_name": "Python 3",
   "language": "python",
   "name": "python3"
  },
  "language_info": {
   "codemirror_mode": {
    "name": "ipython",
    "version": 3
   },
   "file_extension": ".py",
   "mimetype": "text/x-python",
   "name": "python",
   "nbconvert_exporter": "python",
   "pygments_lexer": "ipython3",
   "version": "3.8.3"
  }
 },
 "nbformat": 4,
 "nbformat_minor": 4
}
